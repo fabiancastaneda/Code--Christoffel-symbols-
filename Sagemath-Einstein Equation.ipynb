{
 "cells": [
  {
   "cell_type": "code",
   "execution_count": 2,
   "metadata": {},
   "outputs": [],
   "source": [
    "#g.christoffel_symbols_display()"
   ]
  },
  {
   "cell_type": "code",
   "execution_count": 3,
   "metadata": {},
   "outputs": [],
   "source": [
    "%display latex"
   ]
  },
  {
   "cell_type": "code",
   "execution_count": 4,
   "metadata": {
    "scrolled": false
   },
   "outputs": [],
   "source": [
    "M = Manifold(4, 'M')\n"
   ]
  },
  {
   "cell_type": "code",
   "execution_count": 5,
   "metadata": {},
   "outputs": [
    {
     "data": {
      "text/html": [
       "<html><script type=\"math/tex; mode=display\">\\newcommand{\\Bold}[1]{\\mathbf{#1}}\\left(M,(t, r, {\\theta}, {\\phi})\\right)</script></html>"
      ],
      "text/plain": [
       "Chart (M, (t, r, th, ph))"
      ]
     },
     "execution_count": 5,
     "metadata": {},
     "output_type": "execute_result"
    }
   ],
   "source": [
    "X.<t,r,th,ph> = M.chart(r't r:(0,+oo) th:(0,pi):\\theta ph:(0,2*pi):\\phi')\n",
    "X"
   ]
  },
  {
   "cell_type": "markdown",
   "metadata": {},
   "source": [
    "### Metric tensor"
   ]
  },
  {
   "cell_type": "code",
   "execution_count": 13,
   "metadata": {},
   "outputs": [
    {
     "data": {
      "text/html": [
       "<html><script type=\"math/tex; mode=display\">\\newcommand{\\Bold}[1]{\\mathbf{#1}}g = -e^{\\left(2 \\, \\nu\\left(r, t\\right)\\right)} \\mathrm{d} t\\otimes \\mathrm{d} t + e^{\\left(2 \\, \\mu\\left(r, t\\right)\\right)} \\mathrm{d} r\\otimes \\mathrm{d} r + r^{2} \\mathrm{d} {\\theta}\\otimes \\mathrm{d} {\\theta} + r^{2} \\sin\\left({\\theta}\\right)^{2} \\mathrm{d} {\\phi}\\otimes \\mathrm{d} {\\phi}</script></html>"
      ],
      "text/plain": [
       "g = -e^(2*nu(r, t)) dt*dt + e^(2*mu(r, t)) dr*dr + r^2 dth*dth + r^2*sin(th)^2 dph*dph"
      ]
     },
     "execution_count": 13,
     "metadata": {},
     "output_type": "execute_result"
    }
   ],
   "source": [
    "g = M.lorentzian_metric('g')\n",
    "nu = function('nu')\n",
    "mu = function('mu')\n",
    "R  = function('R') \n",
    "g[0,0] = -exp(2*nu(r,t))\n",
    "g[1,1] = exp(2*mu(r,t))\n",
    "g[2,2] = r^2\n",
    "g[3,3] = (r*sin(th))^2\n",
    "g.display()"
   ]
  },
  {
   "cell_type": "code",
   "execution_count": 8,
   "metadata": {},
   "outputs": [
    {
     "data": {
      "text/html": [
       "<html><script type=\"math/tex; mode=display\">\\newcommand{\\Bold}[1]{\\mathbf{#1}}\\begin{array}{lcl} g_{ \\, t \\, t }^{ \\phantom{\\, t}\\phantom{\\, t} } & = & -e^{\\left(2 \\, \\nu\\left(r, t\\right)\\right)} \\\\ g_{ \\, r \\, r }^{ \\phantom{\\, r}\\phantom{\\, r} } & = & e^{\\left(2 \\, \\mu\\left(r, t\\right)\\right)} \\\\ g_{ \\, {\\theta} \\, {\\theta} }^{ \\phantom{\\, {\\theta}}\\phantom{\\, {\\theta}} } & = & r^{2} \\\\ g_{ \\, {\\phi} \\, {\\phi} }^{ \\phantom{\\, {\\phi}}\\phantom{\\, {\\phi}} } & = & r^{2} \\sin\\left({\\theta}\\right)^{2} \\end{array}</script></html>"
      ],
      "text/plain": [
       "g_t,t = -e^(2*nu(r, t)) \n",
       "g_r,r = e^(2*mu(r, t)) \n",
       "g_th,th = r^2 \n",
       "g_ph,ph = r^2*sin(th)^2 "
      ]
     },
     "execution_count": 8,
     "metadata": {},
     "output_type": "execute_result"
    }
   ],
   "source": [
    "g.display_comp()"
   ]
  },
  {
   "cell_type": "code",
   "execution_count": 9,
   "metadata": {},
   "outputs": [
    {
     "data": {
      "text/html": [
       "<html><script type=\"math/tex; mode=display\">\\newcommand{\\Bold}[1]{\\mathbf{#1}}\\left(\\begin{array}{rrrr}\n",
       "-e^{\\left(2 \\, \\nu\\left(r, t\\right)\\right)} & 0 & 0 & 0 \\\\\n",
       "0 & e^{\\left(2 \\, \\mu\\left(r, t\\right)\\right)} & 0 & 0 \\\\\n",
       "0 & 0 & r^{2} & 0 \\\\\n",
       "0 & 0 & 0 & r^{2} \\sin\\left({\\theta}\\right)^{2}\n",
       "\\end{array}\\right)</script></html>"
      ],
      "text/plain": [
       "[-e^(2*nu(r, t))               0               0               0]\n",
       "[              0  e^(2*mu(r, t))               0               0]\n",
       "[              0               0             r^2               0]\n",
       "[              0               0               0   r^2*sin(th)^2]"
      ]
     },
     "execution_count": 9,
     "metadata": {},
     "output_type": "execute_result"
    }
   ],
   "source": [
    "g[:]"
   ]
  },
  {
   "cell_type": "code",
   "execution_count": 10,
   "metadata": {},
   "outputs": [
    {
     "data": {
      "text/html": [
       "<html><script type=\"math/tex; mode=display\">\\newcommand{\\Bold}[1]{\\mathbf{#1}}\\begin{array}{lcl} \\Gamma_{ \\phantom{\\, t} \\, t \\, t }^{ \\, t \\phantom{\\, t} \\phantom{\\, t} } & = & \\frac{\\partial\\,\\nu}{\\partial t} \\\\ \\Gamma_{ \\phantom{\\, t} \\, t \\, r }^{ \\, t \\phantom{\\, t} \\phantom{\\, r} } & = & \\frac{\\partial\\,\\nu}{\\partial r} \\\\ \\Gamma_{ \\phantom{\\, t} \\, r \\, r }^{ \\, t \\phantom{\\, r} \\phantom{\\, r} } & = & e^{\\left(2 \\, \\mu\\left(r, t\\right) - 2 \\, \\nu\\left(r, t\\right)\\right)} \\frac{\\partial\\,\\mu}{\\partial t} \\\\ \\Gamma_{ \\phantom{\\, r} \\, t \\, t }^{ \\, r \\phantom{\\, t} \\phantom{\\, t} } & = & e^{\\left(-2 \\, \\mu\\left(r, t\\right) + 2 \\, \\nu\\left(r, t\\right)\\right)} \\frac{\\partial\\,\\nu}{\\partial r} \\\\ \\Gamma_{ \\phantom{\\, r} \\, t \\, r }^{ \\, r \\phantom{\\, t} \\phantom{\\, r} } & = & \\frac{\\partial\\,\\mu}{\\partial t} \\\\ \\Gamma_{ \\phantom{\\, r} \\, r \\, r }^{ \\, r \\phantom{\\, r} \\phantom{\\, r} } & = & \\frac{\\partial\\,\\mu}{\\partial r} \\\\ \\Gamma_{ \\phantom{\\, r} \\, {\\theta} \\, {\\theta} }^{ \\, r \\phantom{\\, {\\theta}} \\phantom{\\, {\\theta}} } & = & -r e^{\\left(-2 \\, \\mu\\left(r, t\\right)\\right)} \\\\ \\Gamma_{ \\phantom{\\, r} \\, {\\phi} \\, {\\phi} }^{ \\, r \\phantom{\\, {\\phi}} \\phantom{\\, {\\phi}} } & = & -r e^{\\left(-2 \\, \\mu\\left(r, t\\right)\\right)} \\sin\\left({\\theta}\\right)^{2} \\\\ \\Gamma_{ \\phantom{\\, {\\theta}} \\, r \\, {\\theta} }^{ \\, {\\theta} \\phantom{\\, r} \\phantom{\\, {\\theta}} } & = & \\frac{1}{r} \\\\ \\Gamma_{ \\phantom{\\, {\\theta}} \\, {\\phi} \\, {\\phi} }^{ \\, {\\theta} \\phantom{\\, {\\phi}} \\phantom{\\, {\\phi}} } & = & -\\cos\\left({\\theta}\\right) \\sin\\left({\\theta}\\right) \\\\ \\Gamma_{ \\phantom{\\, {\\phi}} \\, r \\, {\\phi} }^{ \\, {\\phi} \\phantom{\\, r} \\phantom{\\, {\\phi}} } & = & \\frac{1}{r} \\\\ \\Gamma_{ \\phantom{\\, {\\phi}} \\, {\\theta} \\, {\\phi} }^{ \\, {\\phi} \\phantom{\\, {\\theta}} \\phantom{\\, {\\phi}} } & = & \\frac{\\cos\\left({\\theta}\\right)}{\\sin\\left({\\theta}\\right)} \\end{array}</script></html>"
      ],
      "text/plain": [
       "Gam^t_t,t = d(nu)/dt \n",
       "Gam^t_t,r = d(nu)/dr \n",
       "Gam^t_r,r = e^(2*mu(r, t) - 2*nu(r, t))*d(mu)/dt \n",
       "Gam^r_t,t = e^(-2*mu(r, t) + 2*nu(r, t))*d(nu)/dr \n",
       "Gam^r_t,r = d(mu)/dt \n",
       "Gam^r_r,r = d(mu)/dr \n",
       "Gam^r_th,th = -r*e^(-2*mu(r, t)) \n",
       "Gam^r_ph,ph = -r*e^(-2*mu(r, t))*sin(th)^2 \n",
       "Gam^th_r,th = 1/r \n",
       "Gam^th_ph,ph = -cos(th)*sin(th) \n",
       "Gam^ph_r,ph = 1/r \n",
       "Gam^ph_th,ph = cos(th)/sin(th) "
      ]
     },
     "execution_count": 10,
     "metadata": {},
     "output_type": "execute_result"
    }
   ],
   "source": [
    "g.christoffel_symbols_display()"
   ]
  },
  {
   "cell_type": "markdown",
   "metadata": {},
   "source": [
    "## Einstein equation\n"
   ]
  },
  {
   "cell_type": "code",
   "execution_count": 14,
   "metadata": {},
   "outputs": [
    {
     "name": "stdout",
     "output_type": "stream",
     "text": [
      "Field of symmetric bilinear forms Ric(g) on the 4-dimensional differentiable manifold M\n"
     ]
    }
   ],
   "source": [
    "Ric = g.ricci()\n",
    "print(Ric)"
   ]
  },
  {
   "cell_type": "code",
   "execution_count": 15,
   "metadata": {},
   "outputs": [
    {
     "data": {
      "text/html": [
       "<html><script type=\"math/tex; mode=display\">\\newcommand{\\Bold}[1]{\\mathbf{#1}}\\mathrm{Ric}\\left(g\\right) = -\\frac{{\\left(r e^{\\left(2 \\, \\mu\\left(r, t\\right)\\right)} \\left(\\frac{\\partial\\,\\mu}{\\partial t}\\right)^{2} - r e^{\\left(2 \\, \\nu\\left(r, t\\right)\\right)} \\left(\\frac{\\partial\\,\\nu}{\\partial r}\\right)^{2} - r e^{\\left(2 \\, \\mu\\left(r, t\\right)\\right)} \\frac{\\partial\\,\\mu}{\\partial t} \\frac{\\partial\\,\\nu}{\\partial t} + r e^{\\left(2 \\, \\mu\\left(r, t\\right)\\right)} \\frac{\\partial^2\\,\\mu}{\\partial t ^ 2} - r e^{\\left(2 \\, \\nu\\left(r, t\\right)\\right)} \\frac{\\partial^2\\,\\nu}{\\partial r ^ 2} + {\\left(r e^{\\left(2 \\, \\nu\\left(r, t\\right)\\right)} \\frac{\\partial\\,\\mu}{\\partial r} - 2 \\, e^{\\left(2 \\, \\nu\\left(r, t\\right)\\right)}\\right)} \\frac{\\partial\\,\\nu}{\\partial r}\\right)} e^{\\left(-2 \\, \\mu\\left(r, t\\right)\\right)}}{r} \\mathrm{d} t\\otimes \\mathrm{d} t + \\frac{2 \\, \\frac{\\partial\\,\\mu}{\\partial t}}{r} \\mathrm{d} t\\otimes \\mathrm{d} r + \\frac{2 \\, \\frac{\\partial\\,\\mu}{\\partial t}}{r} \\mathrm{d} r\\otimes \\mathrm{d} t + \\frac{{\\left(r e^{\\left(2 \\, \\mu\\left(r, t\\right)\\right)} \\left(\\frac{\\partial\\,\\mu}{\\partial t}\\right)^{2} + r e^{\\left(2 \\, \\nu\\left(r, t\\right)\\right)} \\frac{\\partial\\,\\mu}{\\partial r} \\frac{\\partial\\,\\nu}{\\partial r} - r e^{\\left(2 \\, \\nu\\left(r, t\\right)\\right)} \\frac{\\partial\\,\\nu}{\\partial r}^{2} - r e^{\\left(2 \\, \\mu\\left(r, t\\right)\\right)} \\frac{\\partial\\,\\mu}{\\partial t} \\frac{\\partial\\,\\nu}{\\partial t} + r e^{\\left(2 \\, \\mu\\left(r, t\\right)\\right)} \\frac{\\partial^2\\,\\mu}{\\partial t ^ 2} - r e^{\\left(2 \\, \\nu\\left(r, t\\right)\\right)} \\frac{\\partial^2\\,\\nu}{\\partial r ^ 2} + 2 \\, e^{\\left(2 \\, \\nu\\left(r, t\\right)\\right)} \\frac{\\partial\\,\\mu}{\\partial r}\\right)} e^{\\left(-2 \\, \\nu\\left(r, t\\right)\\right)}}{r} \\mathrm{d} r\\otimes \\mathrm{d} r + {\\left(r \\frac{\\partial\\,\\mu}{\\partial r} - r \\frac{\\partial\\,\\nu}{\\partial r} + e^{\\left(2 \\, \\mu\\left(r, t\\right)\\right)} - 1\\right)} e^{\\left(-2 \\, \\mu\\left(r, t\\right)\\right)} \\mathrm{d} {\\theta}\\otimes \\mathrm{d} {\\theta} + {\\left(r \\frac{\\partial\\,\\mu}{\\partial r} - r \\frac{\\partial\\,\\nu}{\\partial r} + e^{\\left(2 \\, \\mu\\left(r, t\\right)\\right)} - 1\\right)} e^{\\left(-2 \\, \\mu\\left(r, t\\right)\\right)} \\sin\\left({\\theta}\\right)^{2} \\mathrm{d} {\\phi}\\otimes \\mathrm{d} {\\phi}</script></html>"
      ],
      "text/plain": [
       "Ric(g) = -(r*e^(2*mu(r, t))*(d(mu)/dt)^2 - r*e^(2*nu(r, t))*(d(nu)/dr)^2 - r*e^(2*mu(r, t))*d(mu)/dt*d(nu)/dt + r*e^(2*mu(r, t))*d^2(mu)/dt^2 - r*e^(2*nu(r, t))*d^2(nu)/dr^2 + (r*e^(2*nu(r, t))*d(mu)/dr - 2*e^(2*nu(r, t)))*d(nu)/dr)*e^(-2*mu(r, t))/r dt*dt + 2*d(mu)/dt/r dt*dr + 2*d(mu)/dt/r dr*dt + (r*e^(2*mu(r, t))*(d(mu)/dt)^2 + r*e^(2*nu(r, t))*d(mu)/dr*d(nu)/dr - r*e^(2*nu(r, t))*d(nu)/dr^2 - r*e^(2*mu(r, t))*d(mu)/dt*d(nu)/dt + r*e^(2*mu(r, t))*d^2(mu)/dt^2 - r*e^(2*nu(r, t))*d^2(nu)/dr^2 + 2*e^(2*nu(r, t))*d(mu)/dr)*e^(-2*nu(r, t))/r dr*dr + (r*d(mu)/dr - r*d(nu)/dr + e^(2*mu(r, t)) - 1)*e^(-2*mu(r, t)) dth*dth + (r*d(mu)/dr - r*d(nu)/dr + e^(2*mu(r, t)) - 1)*e^(-2*mu(r, t))*sin(th)^2 dph*dph"
      ]
     },
     "execution_count": 15,
     "metadata": {},
     "output_type": "execute_result"
    }
   ],
   "source": [
    "Ric.display()"
   ]
  },
  {
   "cell_type": "code",
   "execution_count": 16,
   "metadata": {},
   "outputs": [
    {
     "data": {
      "text/html": [
       "<html><script type=\"math/tex; mode=display\">\\newcommand{\\Bold}[1]{\\mathbf{#1}}\\begin{array}{llcl} \\mathrm{r}\\left(g\\right):& M & \\longrightarrow & \\mathbb{R} \\\\ & \\left(t, r, {\\theta}, {\\phi}\\right) & \\longmapsto & \\frac{2 \\, {\\left(r^{2} e^{\\left(2 \\, \\mu\\left(r, t\\right)\\right)} \\left(\\frac{\\partial\\,\\mu}{\\partial t}\\right)^{2} - r^{2} e^{\\left(2 \\, \\nu\\left(r, t\\right)\\right)} \\left(\\frac{\\partial\\,\\nu}{\\partial r}\\right)^{2} - r^{2} e^{\\left(2 \\, \\mu\\left(r, t\\right)\\right)} \\frac{\\partial\\,\\mu}{\\partial t} \\frac{\\partial\\,\\nu}{\\partial t} + r^{2} e^{\\left(2 \\, \\mu\\left(r, t\\right)\\right)} \\frac{\\partial^2\\,\\mu}{\\partial t ^ 2} - r^{2} e^{\\left(2 \\, \\nu\\left(r, t\\right)\\right)} \\frac{\\partial^2\\,\\nu}{\\partial r ^ 2} + 2 \\, r e^{\\left(2 \\, \\nu\\left(r, t\\right)\\right)} \\frac{\\partial\\,\\mu}{\\partial r} + {\\left(e^{\\left(2 \\, \\mu\\left(r, t\\right)\\right)} - 1\\right)} e^{\\left(2 \\, \\nu\\left(r, t\\right)\\right)} + {\\left(r^{2} e^{\\left(2 \\, \\nu\\left(r, t\\right)\\right)} \\frac{\\partial\\,\\mu}{\\partial r} - 2 \\, r e^{\\left(2 \\, \\nu\\left(r, t\\right)\\right)}\\right)} \\frac{\\partial\\,\\nu}{\\partial r}\\right)} e^{\\left(-2 \\, \\mu\\left(r, t\\right) - 2 \\, \\nu\\left(r, t\\right)\\right)}}{r^{2}} \\end{array}</script></html>"
      ],
      "text/plain": [
       "r(g): M --> R\n",
       "   (t, r, th, ph) |--> 2*(r^2*e^(2*mu(r, t))*(d(mu)/dt)^2 - r^2*e^(2*nu(r, t))*(d(nu)/dr)^2 - r^2*e^(2*mu(r, t))*d(mu)/dt*d(nu)/dt + r^2*e^(2*mu(r, t))*d^2(mu)/dt^2 - r^2*e^(2*nu(r, t))*d^2(nu)/dr^2 + 2*r*e^(2*nu(r, t))*d(mu)/dr + (e^(2*mu(r, t)) - 1)*e^(2*nu(r, t)) + (r^2*e^(2*nu(r, t))*d(mu)/dr - 2*r*e^(2*nu(r, t)))*d(nu)/dr)*e^(-2*mu(r, t) - 2*nu(r, t))/r^2"
      ]
     },
     "execution_count": 16,
     "metadata": {},
     "output_type": "execute_result"
    }
   ],
   "source": [
    "g.ricci_scalar().display()"
   ]
  },
  {
   "cell_type": "code",
   "execution_count": 17,
   "metadata": {},
   "outputs": [
    {
     "data": {
      "text/html": [
       "<html><script type=\"math/tex; mode=display\">\\newcommand{\\Bold}[1]{\\mathbf{#1}}\\mathrm{True}</script></html>"
      ],
      "text/plain": [
       "True"
      ]
     },
     "execution_count": 17,
     "metadata": {},
     "output_type": "execute_result"
    }
   ],
   "source": [
    "g.ricci_scalar() == g.inverse()['^{ab}']*Ric['_{ab}']"
   ]
  },
  {
   "cell_type": "code",
   "execution_count": 18,
   "metadata": {},
   "outputs": [
    {
     "name": "stdout",
     "output_type": "stream",
     "text": [
      "Field of symmetric bilinear forms G on the 4-dimensional differentiable manifold M\n"
     ]
    }
   ],
   "source": [
    "G = Ric - 1/2*g.ricci_scalar() * g\n",
    "G.set_name('G')\n",
    "print(G)"
   ]
  },
  {
   "cell_type": "code",
   "execution_count": 19,
   "metadata": {},
   "outputs": [
    {
     "data": {
      "text/html": [
       "<html><script type=\"math/tex; mode=display\">\\newcommand{\\Bold}[1]{\\mathbf{#1}}G = \\frac{{\\left(2 \\, r e^{\\left(2 \\, \\nu\\left(r, t\\right)\\right)} \\frac{\\partial\\,\\mu}{\\partial r} + {\\left(e^{\\left(2 \\, \\mu\\left(r, t\\right)\\right)} - 1\\right)} e^{\\left(2 \\, \\nu\\left(r, t\\right)\\right)}\\right)} e^{\\left(-2 \\, \\mu\\left(r, t\\right)\\right)}}{r^{2}} \\mathrm{d} t\\otimes \\mathrm{d} t + \\frac{2 \\, \\frac{\\partial\\,\\mu}{\\partial t}}{r} \\mathrm{d} t\\otimes \\mathrm{d} r + \\frac{2 \\, \\frac{\\partial\\,\\mu}{\\partial t}}{r} \\mathrm{d} r\\otimes \\mathrm{d} t + \\left( \\frac{2 \\, r \\frac{\\partial\\,\\nu}{\\partial r} - e^{\\left(2 \\, \\mu\\left(r, t\\right)\\right)} + 1}{r^{2}} \\right) \\mathrm{d} r\\otimes \\mathrm{d} r -{\\left(r^{2} e^{\\left(2 \\, \\mu\\left(r, t\\right)\\right)} \\left(\\frac{\\partial\\,\\mu}{\\partial t}\\right)^{2} - r^{2} e^{\\left(2 \\, \\nu\\left(r, t\\right)\\right)} \\left(\\frac{\\partial\\,\\nu}{\\partial r}\\right)^{2} - r^{2} e^{\\left(2 \\, \\mu\\left(r, t\\right)\\right)} \\frac{\\partial\\,\\mu}{\\partial t} \\frac{\\partial\\,\\nu}{\\partial t} + r^{2} e^{\\left(2 \\, \\mu\\left(r, t\\right)\\right)} \\frac{\\partial^2\\,\\mu}{\\partial t ^ 2} - r^{2} e^{\\left(2 \\, \\nu\\left(r, t\\right)\\right)} \\frac{\\partial^2\\,\\nu}{\\partial r ^ 2} + r e^{\\left(2 \\, \\nu\\left(r, t\\right)\\right)} \\frac{\\partial\\,\\mu}{\\partial r} + {\\left(r^{2} e^{\\left(2 \\, \\nu\\left(r, t\\right)\\right)} \\frac{\\partial\\,\\mu}{\\partial r} - r e^{\\left(2 \\, \\nu\\left(r, t\\right)\\right)}\\right)} \\frac{\\partial\\,\\nu}{\\partial r}\\right)} e^{\\left(-2 \\, \\mu\\left(r, t\\right) - 2 \\, \\nu\\left(r, t\\right)\\right)} \\mathrm{d} {\\theta}\\otimes \\mathrm{d} {\\theta} -{\\left(r^{2} e^{\\left(2 \\, \\mu\\left(r, t\\right)\\right)} \\left(\\frac{\\partial\\,\\mu}{\\partial t}\\right)^{2} - r^{2} e^{\\left(2 \\, \\nu\\left(r, t\\right)\\right)} \\left(\\frac{\\partial\\,\\nu}{\\partial r}\\right)^{2} - r^{2} e^{\\left(2 \\, \\mu\\left(r, t\\right)\\right)} \\frac{\\partial\\,\\mu}{\\partial t} \\frac{\\partial\\,\\nu}{\\partial t} + r^{2} e^{\\left(2 \\, \\mu\\left(r, t\\right)\\right)} \\frac{\\partial^2\\,\\mu}{\\partial t ^ 2} - r^{2} e^{\\left(2 \\, \\nu\\left(r, t\\right)\\right)} \\frac{\\partial^2\\,\\nu}{\\partial r ^ 2} + r e^{\\left(2 \\, \\nu\\left(r, t\\right)\\right)} \\frac{\\partial\\,\\mu}{\\partial r} + {\\left(r^{2} e^{\\left(2 \\, \\nu\\left(r, t\\right)\\right)} \\frac{\\partial\\,\\mu}{\\partial r} - r e^{\\left(2 \\, \\nu\\left(r, t\\right)\\right)}\\right)} \\frac{\\partial\\,\\nu}{\\partial r}\\right)} e^{\\left(-2 \\, \\mu\\left(r, t\\right) - 2 \\, \\nu\\left(r, t\\right)\\right)} \\sin\\left({\\theta}\\right)^{2} \\mathrm{d} {\\phi}\\otimes \\mathrm{d} {\\phi}</script></html>"
      ],
      "text/plain": [
       "G = (2*r*e^(2*nu(r, t))*d(mu)/dr + (e^(2*mu(r, t)) - 1)*e^(2*nu(r, t)))*e^(-2*mu(r, t))/r^2 dt*dt + 2*d(mu)/dt/r dt*dr + 2*d(mu)/dt/r dr*dt + (2*r*d(nu)/dr - e^(2*mu(r, t)) + 1)/r^2 dr*dr - (r^2*e^(2*mu(r, t))*(d(mu)/dt)^2 - r^2*e^(2*nu(r, t))*(d(nu)/dr)^2 - r^2*e^(2*mu(r, t))*d(mu)/dt*d(nu)/dt + r^2*e^(2*mu(r, t))*d^2(mu)/dt^2 - r^2*e^(2*nu(r, t))*d^2(nu)/dr^2 + r*e^(2*nu(r, t))*d(mu)/dr + (r^2*e^(2*nu(r, t))*d(mu)/dr - r*e^(2*nu(r, t)))*d(nu)/dr)*e^(-2*mu(r, t) - 2*nu(r, t)) dth*dth - (r^2*e^(2*mu(r, t))*(d(mu)/dt)^2 - r^2*e^(2*nu(r, t))*(d(nu)/dr)^2 - r^2*e^(2*mu(r, t))*d(mu)/dt*d(nu)/dt + r^2*e^(2*mu(r, t))*d^2(mu)/dt^2 - r^2*e^(2*nu(r, t))*d^2(nu)/dr^2 + r*e^(2*nu(r, t))*d(mu)/dr + (r^2*e^(2*nu(r, t))*d(mu)/dr - r*e^(2*nu(r, t)))*d(nu)/dr)*e^(-2*mu(r, t) - 2*nu(r, t))*sin(th)^2 dph*dph"
      ]
     },
     "execution_count": 19,
     "metadata": {},
     "output_type": "execute_result"
    }
   ],
   "source": [
    "G.display()"
   ]
  },
  {
   "cell_type": "markdown",
   "metadata": {},
   "source": [
    "### The energy-momentum tensor\n",
    "\n",
    "We consider a perfect fluid matter model. \n",
    "Let us first defined the fluid 4-velocity $u$: "
   ]
  },
  {
   "cell_type": "code",
   "execution_count": 20,
   "metadata": {},
   "outputs": [
    {
     "data": {
      "text/html": [
       "<html><script type=\"math/tex; mode=display\">\\newcommand{\\Bold}[1]{\\mathbf{#1}}u = e^{\\left(-\\nu\\left(r\\right)\\right)} \\frac{\\partial}{\\partial t }</script></html>"
      ],
      "text/plain": [
       "u = e^(-nu(r)) d/dt"
      ]
     },
     "execution_count": 20,
     "metadata": {},
     "output_type": "execute_result"
    }
   ],
   "source": [
    "u = M.vector_field('u')\n",
    "u[0] = exp(-nu(r))\n",
    "u.display()"
   ]
  },
  {
   "cell_type": "code",
   "execution_count": 21,
   "metadata": {},
   "outputs": [
    {
     "data": {
      "text/html": [
       "<html><script type=\"math/tex; mode=display\">\\newcommand{\\Bold}[1]{\\mathbf{#1}}\\left[e^{\\left(-\\nu\\left(r\\right)\\right)}, 0, 0, 0\\right]</script></html>"
      ],
      "text/plain": [
       "[e^(-nu(r)), 0, 0, 0]"
      ]
     },
     "execution_count": 21,
     "metadata": {},
     "output_type": "execute_result"
    }
   ],
   "source": [
    "u[:]"
   ]
  },
  {
   "cell_type": "code",
   "execution_count": 22,
   "metadata": {},
   "outputs": [
    {
     "name": "stdout",
     "output_type": "stream",
     "text": [
      "Free module X(M) of vector fields on the 4-dimensional differentiable manifold M\n"
     ]
    }
   ],
   "source": [
    "print(u.parent())"
   ]
  },
  {
   "cell_type": "markdown",
   "metadata": {},
   "source": [
    "Let us check that $u$ is a normalized timelike vector, i.e. that $g_{ab} u^a u^b = -1$, or, in index-free notation, $g(u,u)=-1$:"
   ]
  },
  {
   "cell_type": "code",
   "execution_count": 23,
   "metadata": {},
   "outputs": [
    {
     "data": {
      "text/html": [
       "<html><script type=\"math/tex; mode=display\">\\newcommand{\\Bold}[1]{\\mathbf{#1}}g\\left(u,u\\right)</script></html>"
      ],
      "text/plain": [
       "Scalar field g(u,u) on the 4-dimensional differentiable manifold M"
      ]
     },
     "execution_count": 23,
     "metadata": {},
     "output_type": "execute_result"
    }
   ],
   "source": [
    "g(u,u)"
   ]
  },
  {
   "cell_type": "code",
   "execution_count": 24,
   "metadata": {},
   "outputs": [
    {
     "name": "stdout",
     "output_type": "stream",
     "text": [
      "Scalar field g(u,u) on the 4-dimensional differentiable manifold M\n"
     ]
    }
   ],
   "source": [
    "print(g(u,u))"
   ]
  },
  {
   "cell_type": "code",
   "execution_count": 25,
   "metadata": {},
   "outputs": [
    {
     "data": {
      "text/html": [
       "<html><script type=\"math/tex; mode=display\">\\newcommand{\\Bold}[1]{\\mathbf{#1}}\\begin{array}{llcl} g\\left(u,u\\right):& M & \\longrightarrow & \\mathbb{R} \\\\ & \\left(t, r, {\\theta}, {\\phi}\\right) & \\longmapsto & -e^{\\left(2 \\, \\nu\\left(r, t\\right) - 2 \\, \\nu\\left(r\\right)\\right)} \\end{array}</script></html>"
      ],
      "text/plain": [
       "g(u,u): M --> R\n",
       "   (t, r, th, ph) |--> -e^(2*nu(r, t) - 2*nu(r))"
      ]
     },
     "execution_count": 25,
     "metadata": {},
     "output_type": "execute_result"
    }
   ],
   "source": [
    "g(u,u).display()"
   ]
  },
  {
   "cell_type": "code",
   "execution_count": 26,
   "metadata": {},
   "outputs": [
    {
     "data": {
      "text/html": [
       "<html><script type=\"math/tex; mode=display\">\\newcommand{\\Bold}[1]{\\mathbf{#1}}C^{\\infty}\\left(M\\right)</script></html>"
      ],
      "text/plain": [
       "Algebra of differentiable scalar fields on the 4-dimensional differentiable manifold M"
      ]
     },
     "execution_count": 26,
     "metadata": {},
     "output_type": "execute_result"
    }
   ],
   "source": [
    "g(u,u).parent()"
   ]
  },
  {
   "cell_type": "code",
   "execution_count": 27,
   "metadata": {},
   "outputs": [
    {
     "name": "stdout",
     "output_type": "stream",
     "text": [
      "Algebra of differentiable scalar fields on the 4-dimensional differentiable manifold M\n"
     ]
    }
   ],
   "source": [
    "print(g(u,u).parent())"
   ]
  },
  {
   "cell_type": "code",
   "execution_count": 28,
   "metadata": {},
   "outputs": [
    {
     "data": {
      "text/html": [
       "<html><script type=\"math/tex; mode=display\">\\newcommand{\\Bold}[1]{\\mathbf{#1}}\\mathrm{False}</script></html>"
      ],
      "text/plain": [
       "False"
      ]
     },
     "execution_count": 28,
     "metadata": {},
     "output_type": "execute_result"
    }
   ],
   "source": [
    "g(u,u) == -1"
   ]
  },
  {
   "cell_type": "markdown",
   "metadata": {},
   "source": [
    "To form the energy-momentum tensor, we need the 1-form $\\underline{u}$ that is metric-dual to the vector $u$, i.e. \n",
    "$u_a = g_{ab} u^b$:"
   ]
  },
  {
   "cell_type": "code",
   "execution_count": 29,
   "metadata": {},
   "outputs": [
    {
     "name": "stdout",
     "output_type": "stream",
     "text": [
      "1-form on the 4-dimensional differentiable manifold M\n"
     ]
    }
   ],
   "source": [
    "u_form = u.down(g)\n",
    "print(u_form)"
   ]
  },
  {
   "cell_type": "code",
   "execution_count": 30,
   "metadata": {},
   "outputs": [
    {
     "data": {
      "text/html": [
       "<html><script type=\"math/tex; mode=display\">\\newcommand{\\Bold}[1]{\\mathbf{#1}}-e^{\\left(2 \\, \\nu\\left(r, t\\right) - \\nu\\left(r\\right)\\right)} \\mathrm{d} t</script></html>"
      ],
      "text/plain": [
       "-e^(2*nu(r, t) - nu(r)) dt"
      ]
     },
     "execution_count": 30,
     "metadata": {},
     "output_type": "execute_result"
    }
   ],
   "source": [
    "u_form.display()"
   ]
  },
  {
   "cell_type": "markdown",
   "metadata": {},
   "source": [
    "The energy-momentum tensor is then\n",
    "$$ T_{ab} = (\\rho + p) u_a u_b + p \\, g_{ab},$$\n",
    "or in index-free notation:\n",
    "$$ T = (\\rho + p) \\underline{u}\\otimes\\underline{u} + p \\, g$$"
   ]
  },
  {
   "cell_type": "markdown",
   "metadata": {},
   "source": [
    "Since the tensor product $\\otimes$ is taken with the `*` operator, we write:"
   ]
  },
  {
   "cell_type": "code",
   "execution_count": 31,
   "metadata": {},
   "outputs": [
    {
     "name": "stdout",
     "output_type": "stream",
     "text": [
      "Field of symmetric bilinear forms T on the 4-dimensional differentiable manifold M\n"
     ]
    }
   ],
   "source": [
    "rho = function('rho')\n",
    "p = function('p')\n",
    "T = (rho(r)+p(r))* (u_form * u_form) + p(r) * g\n",
    "T.set_name('T')\n",
    "print(T)"
   ]
  },
  {
   "cell_type": "code",
   "execution_count": 32,
   "metadata": {},
   "outputs": [
    {
     "data": {
      "text/html": [
       "<html><script type=\"math/tex; mode=display\">\\newcommand{\\Bold}[1]{\\mathbf{#1}}T = {\\left({\\left(e^{\\left(4 \\, \\nu\\left(r, t\\right)\\right)} - e^{\\left(2 \\, \\nu\\left(r, t\\right) + 2 \\, \\nu\\left(r\\right)\\right)}\\right)} p\\left(r\\right) + e^{\\left(4 \\, \\nu\\left(r, t\\right)\\right)} \\rho\\left(r\\right)\\right)} e^{\\left(-2 \\, \\nu\\left(r\\right)\\right)} \\mathrm{d} t\\otimes \\mathrm{d} t + e^{\\left(2 \\, \\mu\\left(r, t\\right)\\right)} p\\left(r\\right) \\mathrm{d} r\\otimes \\mathrm{d} r + r^{2} p\\left(r\\right) \\mathrm{d} {\\theta}\\otimes \\mathrm{d} {\\theta} + r^{2} p\\left(r\\right) \\sin\\left({\\theta}\\right)^{2} \\mathrm{d} {\\phi}\\otimes \\mathrm{d} {\\phi}</script></html>"
      ],
      "text/plain": [
       "T = ((e^(4*nu(r, t)) - e^(2*nu(r, t) + 2*nu(r)))*p(r) + e^(4*nu(r, t))*rho(r))*e^(-2*nu(r)) dt*dt + e^(2*mu(r, t))*p(r) dr*dr + r^2*p(r) dth*dth + r^2*p(r)*sin(th)^2 dph*dph"
      ]
     },
     "execution_count": 32,
     "metadata": {},
     "output_type": "execute_result"
    }
   ],
   "source": [
    "T.display()"
   ]
  },
  {
   "cell_type": "code",
   "execution_count": 33,
   "metadata": {},
   "outputs": [
    {
     "data": {
      "text/html": [
       "<html><script type=\"math/tex; mode=display\">\\newcommand{\\Bold}[1]{\\mathbf{#1}}T\\left(u,u\\right)</script></html>"
      ],
      "text/plain": [
       "Scalar field T(u,u) on the 4-dimensional differentiable manifold M"
      ]
     },
     "execution_count": 33,
     "metadata": {},
     "output_type": "execute_result"
    }
   ],
   "source": [
    "T(u,u)"
   ]
  },
  {
   "cell_type": "code",
   "execution_count": 34,
   "metadata": {},
   "outputs": [
    {
     "name": "stdout",
     "output_type": "stream",
     "text": [
      "Scalar field T(u,u) on the 4-dimensional differentiable manifold M\n"
     ]
    }
   ],
   "source": [
    "print(T(u,u))"
   ]
  },
  {
   "cell_type": "code",
   "execution_count": 35,
   "metadata": {},
   "outputs": [
    {
     "data": {
      "text/html": [
       "<html><script type=\"math/tex; mode=display\">\\newcommand{\\Bold}[1]{\\mathbf{#1}}\\begin{array}{llcl} T\\left(u,u\\right):& M & \\longrightarrow & \\mathbb{R} \\\\ & \\left(t, r, {\\theta}, {\\phi}\\right) & \\longmapsto & {\\left({\\left(e^{\\left(4 \\, \\nu\\left(r, t\\right)\\right)} - e^{\\left(2 \\, \\nu\\left(r, t\\right) + 2 \\, \\nu\\left(r\\right)\\right)}\\right)} p\\left(r\\right) + e^{\\left(4 \\, \\nu\\left(r, t\\right)\\right)} \\rho\\left(r\\right)\\right)} e^{\\left(-4 \\, \\nu\\left(r\\right)\\right)} \\end{array}</script></html>"
      ],
      "text/plain": [
       "T(u,u): M --> R\n",
       "   (t, r, th, ph) |--> ((e^(4*nu(r, t)) - e^(2*nu(r, t) + 2*nu(r)))*p(r) + e^(4*nu(r, t))*rho(r))*e^(-4*nu(r))"
      ]
     },
     "execution_count": 35,
     "metadata": {},
     "output_type": "execute_result"
    }
   ],
   "source": [
    "T(u,u).display()"
   ]
  },
  {
   "cell_type": "markdown",
   "metadata": {},
   "source": [
    "### The Einstein equation\n",
    "\n",
    "The Einstein equation is \n",
    "$$ G = 8\\pi T$$\n",
    "We rewrite it as $E = 0$ with $E := G - 8\\pi T$:"
   ]
  },
  {
   "cell_type": "code",
   "execution_count": 36,
   "metadata": {},
   "outputs": [
    {
     "name": "stdout",
     "output_type": "stream",
     "text": [
      "Field of symmetric bilinear forms E on the 4-dimensional differentiable manifold M\n"
     ]
    }
   ],
   "source": [
    "E = G - 8*pi*T\n",
    "E.set_name('E')\n",
    "print(E)"
   ]
  },
  {
   "cell_type": "code",
   "execution_count": 31,
   "metadata": {},
   "outputs": [
    {
     "data": {
      "text/html": [
       "<html><script type=\"math/tex; mode=display\">\\newcommand{\\Bold}[1]{\\mathbf{#1}}E = -\\frac{{\\left(8 \\, \\pi r^{2} e^{\\left(2 \\, \\mu\\left(r\\right) + 2 \\, \\nu\\left(r\\right)\\right)} \\rho\\left(r\\right) - 2 \\, r e^{\\left(2 \\, \\nu\\left(r\\right)\\right)} \\frac{\\partial\\,\\mu}{\\partial r} - {\\left(e^{\\left(2 \\, \\mu\\left(r\\right)\\right)} - 1\\right)} e^{\\left(2 \\, \\nu\\left(r\\right)\\right)}\\right)} e^{\\left(-2 \\, \\mu\\left(r\\right)\\right)}}{r^{2}} \\mathrm{d} t\\otimes \\mathrm{d} t + \\left( -\\frac{8 \\, \\pi r^{2} e^{\\left(2 \\, \\mu\\left(r\\right)\\right)} p\\left(r\\right) - 2 \\, r \\frac{\\partial\\,\\nu}{\\partial r} + e^{\\left(2 \\, \\mu\\left(r\\right)\\right)} - 1}{r^{2}} \\right) \\mathrm{d} r\\otimes \\mathrm{d} r -{\\left(8 \\, \\pi r^{2} e^{\\left(2 \\, \\mu\\left(r\\right)\\right)} p\\left(r\\right) - r^{2} \\left(\\frac{\\partial\\,\\nu}{\\partial r}\\right)^{2} - r^{2} \\frac{\\partial^2\\,\\nu}{\\partial r ^ 2} + r \\frac{\\partial\\,\\mu}{\\partial r} + {\\left(r^{2} \\frac{\\partial\\,\\mu}{\\partial r} - r\\right)} \\frac{\\partial\\,\\nu}{\\partial r}\\right)} e^{\\left(-2 \\, \\mu\\left(r\\right)\\right)} \\mathrm{d} {\\theta}\\otimes \\mathrm{d} {\\theta} -{\\left(8 \\, \\pi r^{2} e^{\\left(2 \\, \\mu\\left(r\\right)\\right)} p\\left(r\\right) - r^{2} \\left(\\frac{\\partial\\,\\nu}{\\partial r}\\right)^{2} - r^{2} \\frac{\\partial^2\\,\\nu}{\\partial r ^ 2} + r \\frac{\\partial\\,\\mu}{\\partial r} + {\\left(r^{2} \\frac{\\partial\\,\\mu}{\\partial r} - r\\right)} \\frac{\\partial\\,\\nu}{\\partial r}\\right)} e^{\\left(-2 \\, \\mu\\left(r\\right)\\right)} \\sin\\left({\\theta}\\right)^{2} \\mathrm{d} {\\phi}\\otimes \\mathrm{d} {\\phi}</script></html>"
      ],
      "text/plain": [
       "E = -(8*pi*r^2*e^(2*mu(r) + 2*nu(r))*rho(r) - 2*r*e^(2*nu(r))*d(mu)/dr - (e^(2*mu(r)) - 1)*e^(2*nu(r)))*e^(-2*mu(r))/r^2 dt*dt - (8*pi*r^2*e^(2*mu(r))*p(r) - 2*r*d(nu)/dr + e^(2*mu(r)) - 1)/r^2 dr*dr - (8*pi*r^2*e^(2*mu(r))*p(r) - r^2*(d(nu)/dr)^2 - r^2*d^2(nu)/dr^2 + r*d(mu)/dr + (r^2*d(mu)/dr - r)*d(nu)/dr)*e^(-2*mu(r)) dth*dth - (8*pi*r^2*e^(2*mu(r))*p(r) - r^2*(d(nu)/dr)^2 - r^2*d^2(nu)/dr^2 + r*d(mu)/dr + (r^2*d(mu)/dr - r)*d(nu)/dr)*e^(-2*mu(r))*sin(th)^2 dph*dph"
      ]
     },
     "execution_count": 31,
     "metadata": {},
     "output_type": "execute_result"
    }
   ],
   "source": [
    "E.display()"
   ]
  },
  {
   "cell_type": "code",
   "execution_count": 32,
   "metadata": {},
   "outputs": [
    {
     "data": {
      "text/html": [
       "<html><script type=\"math/tex; mode=display\">\\newcommand{\\Bold}[1]{\\mathbf{#1}}\\begin{array}{lcl} E_{ \\, t \\, t }^{ \\phantom{\\, t}\\phantom{\\, t} } & = & -\\frac{{\\left(8 \\, \\pi r^{2} e^{\\left(2 \\, \\mu\\left(r\\right) + 2 \\, \\nu\\left(r\\right)\\right)} \\rho\\left(r\\right) - 2 \\, r e^{\\left(2 \\, \\nu\\left(r\\right)\\right)} \\frac{\\partial\\,\\mu}{\\partial r} - {\\left(e^{\\left(2 \\, \\mu\\left(r\\right)\\right)} - 1\\right)} e^{\\left(2 \\, \\nu\\left(r\\right)\\right)}\\right)} e^{\\left(-2 \\, \\mu\\left(r\\right)\\right)}}{r^{2}} \\\\ E_{ \\, r \\, r }^{ \\phantom{\\, r}\\phantom{\\, r} } & = & -\\frac{8 \\, \\pi r^{2} e^{\\left(2 \\, \\mu\\left(r\\right)\\right)} p\\left(r\\right) - 2 \\, r \\frac{\\partial\\,\\nu}{\\partial r} + e^{\\left(2 \\, \\mu\\left(r\\right)\\right)} - 1}{r^{2}} \\\\ E_{ \\, {\\theta} \\, {\\theta} }^{ \\phantom{\\, {\\theta}}\\phantom{\\, {\\theta}} } & = & -{\\left(8 \\, \\pi r^{2} e^{\\left(2 \\, \\mu\\left(r\\right)\\right)} p\\left(r\\right) - r^{2} \\left(\\frac{\\partial\\,\\nu}{\\partial r}\\right)^{2} - r^{2} \\frac{\\partial^2\\,\\nu}{\\partial r ^ 2} + r \\frac{\\partial\\,\\mu}{\\partial r} + {\\left(r^{2} \\frac{\\partial\\,\\mu}{\\partial r} - r\\right)} \\frac{\\partial\\,\\nu}{\\partial r}\\right)} e^{\\left(-2 \\, \\mu\\left(r\\right)\\right)} \\\\ E_{ \\, {\\phi} \\, {\\phi} }^{ \\phantom{\\, {\\phi}}\\phantom{\\, {\\phi}} } & = & -{\\left(8 \\, \\pi r^{2} e^{\\left(2 \\, \\mu\\left(r\\right)\\right)} p\\left(r\\right) - r^{2} \\left(\\frac{\\partial\\,\\nu}{\\partial r}\\right)^{2} - r^{2} \\frac{\\partial^2\\,\\nu}{\\partial r ^ 2} + r \\frac{\\partial\\,\\mu}{\\partial r} + {\\left(r^{2} \\frac{\\partial\\,\\mu}{\\partial r} - r\\right)} \\frac{\\partial\\,\\nu}{\\partial r}\\right)} e^{\\left(-2 \\, \\mu\\left(r\\right)\\right)} \\sin\\left({\\theta}\\right)^{2} \\end{array}</script></html>"
      ],
      "text/plain": [
       "E_t,t = -(8*pi*r^2*e^(2*mu(r) + 2*nu(r))*rho(r) - 2*r*e^(2*nu(r))*d(mu)/dr - (e^(2*mu(r)) - 1)*e^(2*nu(r)))*e^(-2*mu(r))/r^2 \n",
       "E_r,r = -(8*pi*r^2*e^(2*mu(r))*p(r) - 2*r*d(nu)/dr + e^(2*mu(r)) - 1)/r^2 \n",
       "E_th,th = -(8*pi*r^2*e^(2*mu(r))*p(r) - r^2*(d(nu)/dr)^2 - r^2*d^2(nu)/dr^2 + r*d(mu)/dr + (r^2*d(mu)/dr - r)*d(nu)/dr)*e^(-2*mu(r)) \n",
       "E_ph,ph = -(8*pi*r^2*e^(2*mu(r))*p(r) - r^2*(d(nu)/dr)^2 - r^2*d^2(nu)/dr^2 + r*d(mu)/dr + (r^2*d(mu)/dr - r)*d(nu)/dr)*e^(-2*mu(r))*sin(th)^2 "
      ]
     },
     "execution_count": 32,
     "metadata": {},
     "output_type": "execute_result"
    }
   ],
   "source": [
    "E.display_comp()"
   ]
  },
  {
   "cell_type": "code",
   "execution_count": 33,
   "metadata": {},
   "outputs": [],
   "source": [
    "EE0_sol = solve(E[0,0].expr()==0, rho(r))\n",
    "EE0_sol\n",
    "EE0 = EE0_sol[0]"
   ]
  },
  {
   "cell_type": "code",
   "execution_count": 34,
   "metadata": {},
   "outputs": [
    {
     "data": {
      "text/html": [
       "<html><script type=\"math/tex; mode=display\">\\newcommand{\\Bold}[1]{\\mathbf{#1}}\\frac{\\partial}{\\partial r}\\nu\\left(r\\right) = \\frac{8 \\, \\pi r^{2} e^{\\left(2 \\, \\mu\\left(r\\right)\\right)} p\\left(r\\right) + e^{\\left(2 \\, \\mu\\left(r\\right)\\right)} - 1}{2 \\, r}</script></html>"
      ],
      "text/plain": [
       "diff(nu(r), r) == 1/2*(8*pi*r^2*e^(2*mu(r))*p(r) + e^(2*mu(r)) - 1)/r"
      ]
     },
     "execution_count": 34,
     "metadata": {},
     "output_type": "execute_result"
    }
   ],
   "source": [
    "EE1_sol = solve(E[1,1].expr()==0, diff(nu(r),r))\n",
    "EE1 = EE1_sol[0]\n",
    "EE1"
   ]
  },
  {
   "cell_type": "code",
   "execution_count": 35,
   "metadata": {},
   "outputs": [
    {
     "data": {
      "text/html": [
       "<html><script type=\"math/tex; mode=display\">\\newcommand{\\Bold}[1]{\\mathbf{#1}}\\frac{\\partial}{\\partial r}\\mu\\left(r\\right) = -\\frac{8 \\, \\pi r e^{\\left(2 \\, \\mu\\left(r\\right)\\right)} p\\left(r\\right) - r \\frac{\\partial}{\\partial r}\\nu\\left(r\\right)^{2} - r \\frac{\\partial^{2}}{(\\partial r)^{2}}\\nu\\left(r\\right) - \\frac{\\partial}{\\partial r}\\nu\\left(r\\right)}{r \\frac{\\partial}{\\partial r}\\nu\\left(r\\right) + 1}</script></html>"
      ],
      "text/plain": [
       "diff(mu(r), r) == -(8*pi*r*e^(2*mu(r))*p(r) - r*diff(nu(r), r)^2 - r*diff(nu(r), r, r) - diff(nu(r), r))/(r*diff(nu(r), r) + 1)"
      ]
     },
     "execution_count": 35,
     "metadata": {},
     "output_type": "execute_result"
    }
   ],
   "source": [
    "EE2_sol = solve(E[2,2].expr()==0, diff(mu(r),r))\n",
    "EE2 = EE2_sol[0]\n",
    "EE2"
   ]
  },
  {
   "cell_type": "markdown",
   "metadata": {},
   "source": [
    "### The energy-momentum conservation equation\n",
    "The energy-momentum tensor must obey\n",
    "$$ \\nabla_b T^b_{\\ \\, a} = 0$$\n",
    "We first form the tensor $T^b_{\\ \\, a}$ by raising the first index of $T_{ab}$:"
   ]
  },
  {
   "cell_type": "code",
   "execution_count": 36,
   "metadata": {},
   "outputs": [
    {
     "name": "stdout",
     "output_type": "stream",
     "text": [
      "Tensor field of type (1,1) on the 4-dimensional differentiable manifold M\n"
     ]
    }
   ],
   "source": [
    "Tu = T.up(g, 0)\n",
    "print(Tu)"
   ]
  },
  {
   "cell_type": "markdown",
   "metadata": {},
   "source": [
    "We get the Levi-Civita connection $\\nabla$ associated with the metric $g$:"
   ]
  },
  {
   "cell_type": "code",
   "execution_count": 37,
   "metadata": {},
   "outputs": [
    {
     "name": "stdout",
     "output_type": "stream",
     "text": [
      "Levi-Civita connection nabla_g associated with the Lorentzian metric g on the 4-dimensional differentiable manifold M\n"
     ]
    }
   ],
   "source": [
    "nabla = g.connection()\n",
    "print(nabla)"
   ]
  },
  {
   "cell_type": "code",
   "execution_count": 38,
   "metadata": {},
   "outputs": [],
   "source": [
    "#nabla.display()"
   ]
  },
  {
   "cell_type": "markdown",
   "metadata": {},
   "source": [
    "We apply `nabla` to `Tu` to get the tensor $(\\nabla T)^b_{\\ \\, ac} = \\nabla_c T^b_{\\ \\, a}$ (MTW index convention):"
   ]
  },
  {
   "cell_type": "code",
   "execution_count": 39,
   "metadata": {},
   "outputs": [
    {
     "name": "stdout",
     "output_type": "stream",
     "text": [
      "Tensor field of type (1,2) on the 4-dimensional differentiable manifold M\n"
     ]
    }
   ],
   "source": [
    "dTu = nabla(Tu)\n",
    "print(dTu)"
   ]
  },
  {
   "cell_type": "markdown",
   "metadata": {},
   "source": [
    "The divergence $\\nabla_b T^b_{\\ \\, a}$ is then computed as the trace of the tensor $(\\nabla T)^b_{\\ \\, ac}$ on the first index ($b$, position `0`) and last index ($c$, position `2`):"
   ]
  },
  {
   "cell_type": "code",
   "execution_count": 40,
   "metadata": {},
   "outputs": [
    {
     "name": "stdout",
     "output_type": "stream",
     "text": [
      "1-form on the 4-dimensional differentiable manifold M\n"
     ]
    }
   ],
   "source": [
    "divT = dTu.trace(0,2)\n",
    "print(divT)"
   ]
  },
  {
   "cell_type": "markdown",
   "metadata": {},
   "source": [
    "We can also take the trace by using the index notation:"
   ]
  },
  {
   "cell_type": "code",
   "execution_count": 41,
   "metadata": {},
   "outputs": [
    {
     "data": {
      "text/html": [
       "<html><script type=\"math/tex; mode=display\">\\newcommand{\\Bold}[1]{\\mathbf{#1}}\\mathrm{True}</script></html>"
      ],
      "text/plain": [
       "True"
      ]
     },
     "execution_count": 41,
     "metadata": {},
     "output_type": "execute_result"
    }
   ],
   "source": [
    "divT == dTu['^b_{ab}']"
   ]
  },
  {
   "cell_type": "code",
   "execution_count": 42,
   "metadata": {},
   "outputs": [
    {
     "name": "stdout",
     "output_type": "stream",
     "text": [
      "1-form on the 4-dimensional differentiable manifold M\n"
     ]
    }
   ],
   "source": [
    "print(divT)"
   ]
  },
  {
   "cell_type": "code",
   "execution_count": 43,
   "metadata": {},
   "outputs": [
    {
     "data": {
      "text/html": [
       "<html><script type=\"math/tex; mode=display\">\\newcommand{\\Bold}[1]{\\mathbf{#1}}\\left( {\\left(p\\left(r\\right) + \\rho\\left(r\\right)\\right)} \\frac{\\partial\\,\\nu}{\\partial r} + \\frac{\\partial\\,p}{\\partial r} \\right) \\mathrm{d} r</script></html>"
      ],
      "text/plain": [
       "((p(r) + rho(r))*d(nu)/dr + d(p)/dr) dr"
      ]
     },
     "execution_count": 43,
     "metadata": {},
     "output_type": "execute_result"
    }
   ],
   "source": [
    "divT.display()"
   ]
  },
  {
   "cell_type": "code",
   "execution_count": 44,
   "metadata": {},
   "outputs": [
    {
     "data": {
      "text/html": [
       "<html><script type=\"math/tex; mode=display\">\\newcommand{\\Bold}[1]{\\mathbf{#1}}\\left[0, {\\left(p\\left(r\\right) + \\rho\\left(r\\right)\\right)} \\frac{\\partial\\,\\nu}{\\partial r} + \\frac{\\partial\\,p}{\\partial r}, 0, 0\\right]</script></html>"
      ],
      "text/plain": [
       "[0, (p(r) + rho(r))*d(nu)/dr + d(p)/dr, 0, 0]"
      ]
     },
     "execution_count": 44,
     "metadata": {},
     "output_type": "execute_result"
    }
   ],
   "source": [
    "divT[:]"
   ]
  },
  {
   "cell_type": "markdown",
   "metadata": {},
   "source": [
    "The only non trivially vanishing components is thus"
   ]
  },
  {
   "cell_type": "code",
   "execution_count": 45,
   "metadata": {},
   "outputs": [
    {
     "data": {
      "text/html": [
       "<html><script type=\"math/tex; mode=display\">\\newcommand{\\Bold}[1]{\\mathbf{#1}}{\\left(p\\left(r\\right) + \\rho\\left(r\\right)\\right)} \\frac{\\partial\\,\\nu}{\\partial r} + \\frac{\\partial\\,p}{\\partial r}</script></html>"
      ],
      "text/plain": [
       "(p(r) + rho(r))*d(nu)/dr + d(p)/dr"
      ]
     },
     "execution_count": 45,
     "metadata": {},
     "output_type": "execute_result"
    }
   ],
   "source": [
    "divT[1]"
   ]
  },
  {
   "cell_type": "markdown",
   "metadata": {},
   "source": [
    "Hence the energy-momentum conservation equation $\\nabla_b T^b_{\\ \\, a}=0$ reduces to"
   ]
  },
  {
   "cell_type": "code",
   "execution_count": 46,
   "metadata": {},
   "outputs": [
    {
     "data": {
      "text/html": [
       "<html><script type=\"math/tex; mode=display\">\\newcommand{\\Bold}[1]{\\mathbf{#1}}\\frac{\\partial}{\\partial r}p\\left(r\\right) = -{\\left(p\\left(r\\right) + \\rho\\left(r\\right)\\right)} \\frac{\\partial}{\\partial r}\\nu\\left(r\\right)</script></html>"
      ],
      "text/plain": [
       "diff(p(r), r) == -(p(r) + rho(r))*diff(nu(r), r)"
      ]
     },
     "execution_count": 46,
     "metadata": {},
     "output_type": "execute_result"
    }
   ],
   "source": [
    "EE3_sol = solve(divT[1].expr()==0, diff(p(r),r))\n",
    "EE3 = EE3_sol[0]\n",
    "EE3"
   ]
  },
  {
   "cell_type": "markdown",
   "metadata": {},
   "source": [
    "### The TOV system\n",
    "\n",
    "Let us collect all the independent equations obtained so far:"
   ]
  },
  {
   "cell_type": "code",
   "execution_count": 47,
   "metadata": {},
   "outputs": [
    {
     "data": {
      "text/html": [
       "<html><script type=\"math/tex; mode=display\">\\newcommand{\\Bold}[1]{\\mathbf{#1}}\\rho\\left(r\\right) = \\frac{2 \\, r e^{\\left(-2 \\, \\mu\\left(r\\right)\\right)} \\frac{\\partial}{\\partial r}\\mu\\left(r\\right) - e^{\\left(-2 \\, \\mu\\left(r\\right)\\right)} + 1}{8 \\, \\pi r^{2}}</script></html>"
      ],
      "text/plain": [
       "rho(r) == 1/8*(2*r*e^(-2*mu(r))*diff(mu(r), r) - e^(-2*mu(r)) + 1)/(pi*r^2)"
      ]
     },
     "metadata": {},
     "output_type": "display_data"
    },
    {
     "data": {
      "text/html": [
       "<html><script type=\"math/tex; mode=display\">\\newcommand{\\Bold}[1]{\\mathbf{#1}}\\frac{\\partial}{\\partial r}\\nu\\left(r\\right) = \\frac{8 \\, \\pi r^{2} e^{\\left(2 \\, \\mu\\left(r\\right)\\right)} p\\left(r\\right) + e^{\\left(2 \\, \\mu\\left(r\\right)\\right)} - 1}{2 \\, r}</script></html>"
      ],
      "text/plain": [
       "diff(nu(r), r) == 1/2*(8*pi*r^2*e^(2*mu(r))*p(r) + e^(2*mu(r)) - 1)/r"
      ]
     },
     "metadata": {},
     "output_type": "display_data"
    },
    {
     "data": {
      "text/html": [
       "<html><script type=\"math/tex; mode=display\">\\newcommand{\\Bold}[1]{\\mathbf{#1}}\\frac{\\partial}{\\partial r}\\mu\\left(r\\right) = -\\frac{8 \\, \\pi r e^{\\left(2 \\, \\mu\\left(r\\right)\\right)} p\\left(r\\right) - r \\frac{\\partial}{\\partial r}\\nu\\left(r\\right)^{2} - r \\frac{\\partial^{2}}{(\\partial r)^{2}}\\nu\\left(r\\right) - \\frac{\\partial}{\\partial r}\\nu\\left(r\\right)}{r \\frac{\\partial}{\\partial r}\\nu\\left(r\\right) + 1}</script></html>"
      ],
      "text/plain": [
       "diff(mu(r), r) == -(8*pi*r*e^(2*mu(r))*p(r) - r*diff(nu(r), r)^2 - r*diff(nu(r), r, r) - diff(nu(r), r))/(r*diff(nu(r), r) + 1)"
      ]
     },
     "metadata": {},
     "output_type": "display_data"
    },
    {
     "data": {
      "text/html": [
       "<html><script type=\"math/tex; mode=display\">\\newcommand{\\Bold}[1]{\\mathbf{#1}}\\frac{\\partial}{\\partial r}p\\left(r\\right) = -{\\left(p\\left(r\\right) + \\rho\\left(r\\right)\\right)} \\frac{\\partial}{\\partial r}\\nu\\left(r\\right)</script></html>"
      ],
      "text/plain": [
       "diff(p(r), r) == -(p(r) + rho(r))*diff(nu(r), r)"
      ]
     },
     "metadata": {},
     "output_type": "display_data"
    }
   ],
   "source": [
    "for eq in [EE0, EE1, EE2, EE3]:\n",
    "    show(eq)"
   ]
  },
  {
   "cell_type": "code",
   "execution_count": 48,
   "metadata": {},
   "outputs": [
    {
     "data": {
      "text/html": [
       "<html><script type=\"math/tex; mode=display\">\\newcommand{\\Bold}[1]{\\mathbf{#1}}\\frac{\\frac{\\partial}{\\partial r}m\\left(r\\right)}{4 \\, \\pi r^{2}}</script></html>"
      ],
      "text/plain": [
       "1/4*diff(m(r), r)/(pi*r^2)"
      ]
     },
     "execution_count": 48,
     "metadata": {},
     "output_type": "execute_result"
    }
   ],
   "source": [
    "m = function('m')\n",
    "rho1 = 1/(4*pi*r**2)*diff(m(r),r)\n",
    "rho1"
   ]
  },
  {
   "cell_type": "code",
   "execution_count": 49,
   "metadata": {},
   "outputs": [
    {
     "data": {
      "text/html": [
       "<html><script type=\"math/tex; mode=display\">\\newcommand{\\Bold}[1]{\\mathbf{#1}}\\rho\\left(r\\right) = \\frac{2 \\, r e^{\\left(-2 \\, \\mu\\left(r\\right)\\right)} \\frac{\\partial}{\\partial r}\\mu\\left(r\\right) - e^{\\left(-2 \\, \\mu\\left(r\\right)\\right)} + 1}{8 \\, \\pi r^{2}}</script></html>"
      ],
      "text/plain": [
       "rho(r) == 1/8*(2*r*e^(-2*mu(r))*diff(mu(r), r) - e^(-2*mu(r)) + 1)/(pi*r^2)"
      ]
     },
     "execution_count": 49,
     "metadata": {},
     "output_type": "execute_result"
    }
   ],
   "source": [
    "EE0"
   ]
  },
  {
   "cell_type": "code",
   "execution_count": 50,
   "metadata": {},
   "outputs": [
    {
     "data": {
      "text/html": [
       "<html><script type=\"math/tex; mode=display\">\\newcommand{\\Bold}[1]{\\mathbf{#1}}\\frac{\\frac{\\partial}{\\partial r}m\\left(r\\right)}{4 \\, \\pi r^{2}} = \\frac{{\\left(2 \\, r \\frac{\\partial}{\\partial r}\\mu\\left(r\\right) + e^{\\left(2 \\, \\mu\\left(r\\right)\\right)} - 1\\right)} e^{\\left(-2 \\, \\mu\\left(r\\right)\\right)}}{8 \\, \\pi r^{2}}</script></html>"
      ],
      "text/plain": [
       "1/4*diff(m(r), r)/(pi*r^2) == 1/8*(2*r*diff(mu(r), r) + e^(2*mu(r)) - 1)*e^(-2*mu(r))/(pi*r^2)"
      ]
     },
     "execution_count": 50,
     "metadata": {},
     "output_type": "execute_result"
    }
   ],
   "source": [
    "EE0 = EE0.subs({rho(r): rho1}).simplify_full()\n",
    "EE0"
   ]
  },
  {
   "cell_type": "code",
   "execution_count": 51,
   "metadata": {},
   "outputs": [
    {
     "data": {
      "text/html": [
       "<html><script type=\"math/tex; mode=display\">\\newcommand{\\Bold}[1]{\\mathbf{#1}}\\frac{\\partial}{\\partial r}m\\left(r\\right) = \\frac{1}{2} \\, {\\left(2 \\, r \\frac{\\partial}{\\partial r}\\mu\\left(r\\right) + e^{\\left(2 \\, \\mu\\left(r\\right)\\right)} - 1\\right)} e^{\\left(-2 \\, \\mu\\left(r\\right)\\right)}</script></html>"
      ],
      "text/plain": [
       "diff(m(r), r) == 1/2*(2*r*diff(mu(r), r) + e^(2*mu(r)) - 1)*e^(-2*mu(r))"
      ]
     },
     "execution_count": 51,
     "metadata": {},
     "output_type": "execute_result"
    }
   ],
   "source": [
    "EE0 = (EE0*4*pi*r**2).simplify_full()\n",
    "EE0"
   ]
  },
  {
   "cell_type": "code",
   "execution_count": 52,
   "metadata": {},
   "outputs": [
    {
     "data": {
      "text/html": [
       "<html><script type=\"math/tex; mode=display\">\\newcommand{\\Bold}[1]{\\mathbf{#1}}\\frac{{\\left(e^{\\left(-2 \\, \\mu\\left(r\\right)\\right)} + \\frac{\\partial}{\\partial r}{\\rm ax}\\left(r\\right) - 1\\right)} e^{\\left(2 \\, \\mu\\left(r\\right)\\right)}}{2 \\, r}</script></html>"
      ],
      "text/plain": [
       "1/2*(e^(-2*mu(r)) + diff(ax(r), r) - 1)*e^(2*mu(r))/r"
      ]
     },
     "execution_count": 52,
     "metadata": {},
     "output_type": "execute_result"
    }
   ],
   "source": [
    "ax = function('ax')\n",
    "e = (diff(ax(r),r)+ e**(-2*mu(r))-1)*e**(2*mu(r))/(2*r)\n",
    "e"
   ]
  },
  {
   "cell_type": "code",
   "execution_count": 53,
   "metadata": {},
   "outputs": [
    {
     "data": {
      "text/html": [
       "<html><script type=\"math/tex; mode=display\">\\newcommand{\\Bold}[1]{\\mathbf{#1}}\\frac{\\partial}{\\partial r}m\\left(r\\right) = \\frac{1}{2} \\, \\frac{\\partial}{\\partial r}{\\rm ax}\\left(r\\right)</script></html>"
      ],
      "text/plain": [
       "diff(m(r), r) == 1/2*diff(ax(r), r)"
      ]
     },
     "execution_count": 53,
     "metadata": {},
     "output_type": "execute_result"
    }
   ],
   "source": [
    "EE0 = EE0.subs({diff(mu(r),r): e}).simplify_full()\n",
    "EE0"
   ]
  },
  {
   "cell_type": "markdown",
   "metadata": {},
   "source": [
    "## 2. Solving the TOV system\n",
    "\n",
    "In order to solve the TOV system, we need to specify a fluid equation of state. For simplicity, we select a polytropic one:\n",
    "$$ p = k \\rho^{1+1/n}$$"
   ]
  },
  {
   "cell_type": "code",
   "execution_count": 54,
   "metadata": {},
   "outputs": [],
   "source": [
    "var('k', domain='real')\n",
    "var('rho_c', domain='real')\n",
    "theta = function('theta')\n",
    "n = 1"
   ]
  },
  {
   "cell_type": "code",
   "execution_count": 55,
   "metadata": {},
   "outputs": [],
   "source": [
    "p_eos(r) = k*rho(r)**(1+1/n)"
   ]
  },
  {
   "cell_type": "code",
   "execution_count": 56,
   "metadata": {},
   "outputs": [],
   "source": [
    "EE0_rho = EE0.substitute_function(p, p_eos)\n",
    "EE1_rho = EE1.substitute_function(p, p_eos)\n",
    "EE2_rho = EE2.substitute_function(p, p_eos)\n",
    "EE3_rho = EE3.substitute_function(p, p_eos)"
   ]
  },
  {
   "cell_type": "code",
   "execution_count": 57,
   "metadata": {},
   "outputs": [],
   "source": [
    "rho_eos(r) = rho_c*theta(r)**(n)"
   ]
  },
  {
   "cell_type": "code",
   "execution_count": 58,
   "metadata": {},
   "outputs": [],
   "source": [
    "EE0_rho = EE0_rho.substitute_function(rho, rho_eos)\n",
    "EE1_rho = EE1_rho.substitute_function(rho, rho_eos)\n",
    "EE2_rho = EE2_rho.substitute_function(rho, rho_eos)\n",
    "EE3_rho = EE3_rho.substitute_function(rho, rho_eos)"
   ]
  },
  {
   "cell_type": "code",
   "execution_count": 59,
   "metadata": {},
   "outputs": [
    {
     "data": {
      "text/html": [
       "<html><script type=\"math/tex; mode=display\">\\newcommand{\\Bold}[1]{\\mathbf{#1}}-\\frac{1}{2} \\, \\log\\left(-\\frac{2 \\, m\\left(r\\right)}{r} + 1\\right)</script></html>"
      ],
      "text/plain": [
       "-1/2*log(-2*m(r)/r + 1)"
      ]
     },
     "execution_count": 59,
     "metadata": {},
     "output_type": "execute_result"
    }
   ],
   "source": [
    "emu = -1/2*ln(1-(2*m(r)/r))\n",
    "emu"
   ]
  },
  {
   "cell_type": "code",
   "execution_count": 60,
   "metadata": {},
   "outputs": [
    {
     "name": "stderr",
     "output_type": "stream",
     "text": [
      "/opt/sagemath-9.0/local/lib/python3.7/site-packages/sage/symbolic/expression_conversions.py:226: DeprecationWarning: Substitution using function-call syntax and unnamed arguments is deprecated and will be removed from a future release of Sage; you can use named arguments instead, like EXPR(x=..., y=...)\n",
      "See http://trac.sagemath.org/5930 for details.\n",
      "  return self.composition(ex, operator)\n"
     ]
    },
    {
     "data": {
      "text/html": [
       "<html><script type=\"math/tex; mode=display\">\\newcommand{\\Bold}[1]{\\mathbf{#1}}\\frac{\\partial}{\\partial r}\\nu\\left(r\\right) = \\frac{-\\frac{8 \\, \\pi k r^{2} \\rho_{c}^{2} \\theta\\left(r\\right)^{2}}{\\frac{2 \\, m\\left(r\\right)}{r} - 1} - \\frac{1}{\\frac{2 \\, m\\left(r\\right)}{r} - 1} - 1}{2 \\, r}</script></html>"
      ],
      "text/plain": [
       "diff(nu(r), r) == 1/2*(8*pi*k*r^2*rho_c^2*e^(-log(-2*m(r)/r + 1))*theta(r)^2 + e^(-log(-2*m(r)/r + 1)) - 1)/r"
      ]
     },
     "execution_count": 60,
     "metadata": {},
     "output_type": "execute_result"
    }
   ],
   "source": [
    "EE1_rho = EE1_rho.substitute_function(mu, emu)\n",
    "EE1_rho"
   ]
  },
  {
   "cell_type": "code",
   "execution_count": 61,
   "metadata": {},
   "outputs": [
    {
     "data": {
      "text/html": [
       "<html><script type=\"math/tex; mode=display\">\\newcommand{\\Bold}[1]{\\mathbf{#1}}\\frac{\\partial}{\\partial r}\\nu\\left(r\\right) = \\frac{4 \\, \\pi k r^{3} \\rho_{c}^{2} \\theta\\left(r\\right)^{2} + m\\left(r\\right)}{r^{2} - 2 \\, r m\\left(r\\right)}</script></html>"
      ],
      "text/plain": [
       "diff(nu(r), r) == (4*pi*k*r^3*rho_c^2*theta(r)^2 + m(r))/(r^2 - 2*r*m(r))"
      ]
     },
     "execution_count": 61,
     "metadata": {},
     "output_type": "execute_result"
    }
   ],
   "source": [
    "EE1_rho = EE1_rho.simplify_full()\n",
    "EE1_rho"
   ]
  },
  {
   "cell_type": "code",
   "execution_count": 62,
   "metadata": {},
   "outputs": [
    {
     "data": {
      "text/html": [
       "<html><script type=\"math/tex; mode=display\">\\newcommand{\\Bold}[1]{\\mathbf{#1}}\\frac{\\partial}{\\partial r}\\nu\\left(r\\right) = \\frac{4 \\, \\pi k r^{3} \\rho_{c}^{2} \\theta\\left(r\\right)^{2} + m\\left(r\\right)}{r^{2} - 2 \\, r m\\left(r\\right)}</script></html>"
      ],
      "text/plain": [
       "diff(nu(r), r) == (4*pi*k*r^3*rho_c^2*theta(r)^2 + m(r))/(r^2 - 2*r*m(r))"
      ]
     },
     "metadata": {},
     "output_type": "display_data"
    },
    {
     "data": {
      "text/html": [
       "<html><script type=\"math/tex; mode=display\">\\newcommand{\\Bold}[1]{\\mathbf{#1}}2 \\, k \\rho_{c}^{2} \\theta\\left(r\\right) \\frac{\\partial}{\\partial r}\\theta\\left(r\\right) = -{\\left(k \\rho_{c}^{2} \\theta\\left(r\\right)^{2} + \\rho_{c} \\theta\\left(r\\right)\\right)} \\frac{\\partial}{\\partial r}\\nu\\left(r\\right)</script></html>"
      ],
      "text/plain": [
       "2*k*rho_c^2*theta(r)*diff(theta(r), r) == -(k*rho_c^2*theta(r)^2 + rho_c*theta(r))*diff(nu(r), r)"
      ]
     },
     "metadata": {},
     "output_type": "display_data"
    }
   ],
   "source": [
    "for eq in [EE1_rho, EE3_rho]:\n",
    "    show(eq)"
   ]
  },
  {
   "cell_type": "code",
   "execution_count": 63,
   "metadata": {},
   "outputs": [
    {
     "data": {
      "text/html": [
       "<html><script type=\"math/tex; mode=display\">\\newcommand{\\Bold}[1]{\\mathbf{#1}}2 \\, k \\rho_{c}^{2} \\theta\\left(r\\right) \\frac{\\partial}{\\partial r}\\theta\\left(r\\right) = -\\frac{4 \\, \\pi k^{2} r^{3} \\rho_{c}^{4} \\theta\\left(r\\right)^{4} + 4 \\, \\pi k r^{3} \\rho_{c}^{3} \\theta\\left(r\\right)^{3} + k \\rho_{c}^{2} m\\left(r\\right) \\theta\\left(r\\right)^{2} + \\rho_{c} m\\left(r\\right) \\theta\\left(r\\right)}{r^{2} - 2 \\, r m\\left(r\\right)}</script></html>"
      ],
      "text/plain": [
       "2*k*rho_c^2*theta(r)*diff(theta(r), r) == -(4*pi*k^2*r^3*rho_c^4*theta(r)^4 + 4*pi*k*r^3*rho_c^3*theta(r)^3 + k*rho_c^2*m(r)*theta(r)^2 + rho_c*m(r)*theta(r))/(r^2 - 2*r*m(r))"
      ]
     },
     "execution_count": 63,
     "metadata": {},
     "output_type": "execute_result"
    }
   ],
   "source": [
    "EE3_rho = EE3_rho.subs({diff(nu(r),r): EE1_rho.rhs()}).simplify_full()\n",
    "EE3_rho"
   ]
  },
  {
   "cell_type": "code",
   "execution_count": 64,
   "metadata": {},
   "outputs": [
    {
     "data": {
      "text/html": [
       "<html><script type=\"math/tex; mode=display\">\\newcommand{\\Bold}[1]{\\mathbf{#1}}\\frac{\\partial}{\\partial r}\\theta\\left(r\\right) = -\\frac{4 \\, \\pi k^{2} r^{3} \\rho_{c}^{3} \\theta\\left(r\\right)^{3} + 4 \\, \\pi k r^{3} \\rho_{c}^{2} \\theta\\left(r\\right)^{2} + k \\rho_{c} m\\left(r\\right) \\theta\\left(r\\right) + m\\left(r\\right)}{2 \\, {\\left(k r^{2} - 2 \\, k r m\\left(r\\right)\\right)} \\rho_{c}}</script></html>"
      ],
      "text/plain": [
       "diff(theta(r), r) == -1/2*(4*pi*k^2*r^3*rho_c^3*theta(r)^3 + 4*pi*k*r^3*rho_c^2*theta(r)^2 + k*rho_c*m(r)*theta(r) + m(r))/((k*r^2 - 2*k*r*m(r))*rho_c)"
      ]
     },
     "execution_count": 64,
     "metadata": {},
     "output_type": "execute_result"
    }
   ],
   "source": [
    "EE3_rho = (EE3_rho / ((n+1)*k*rho_c**(1+1/n)*theta(r)**n)).simplify_full()\n",
    "EE3_rho"
   ]
  },
  {
   "cell_type": "markdown",
   "metadata": {},
   "source": [
    "### Numerical resolution\n",
    "\n",
    "Let us use a standard 4th-order Runge-Kutta method:"
   ]
  },
  {
   "cell_type": "code",
   "execution_count": 268,
   "metadata": {},
   "outputs": [],
   "source": [
    "desolve_system_rk4?"
   ]
  },
  {
   "cell_type": "markdown",
   "metadata": {},
   "source": [
    "We gather all equations in a list for the ease of manipulation:"
   ]
  },
  {
   "cell_type": "code",
   "execution_count": 269,
   "metadata": {},
   "outputs": [],
   "source": [
    "eqs = [EE0_rho, EE1_rho, EE2_rho, EE3_rho]"
   ]
  },
  {
   "cell_type": "markdown",
   "metadata": {},
   "source": [
    "To get a numerical solution, we have of course to specify some numerical value for the EOS constant $k$; let us choose $k=1/4$:"
   ]
  },
  {
   "cell_type": "code",
   "execution_count": 270,
   "metadata": {},
   "outputs": [
    {
     "data": {
      "text/html": [
       "<html><script type=\"math/tex; mode=display\">\\newcommand{\\Bold}[1]{\\mathbf{#1}}\\left[4 \\, \\pi r^{2} \\rho\\left(r\\right), \\frac{2 \\, \\pi r^{2} e^{\\left(2 \\, \\mu\\left(r\\right)\\right)} \\rho\\left(r\\right) + e^{\\left(2 \\, \\mu\\left(r\\right)\\right)} - 1}{2 \\, r}, \\frac{8 \\, \\pi r^{2} e^{\\left(2 \\, \\mu\\left(r\\right)\\right)} \\rho\\left(r\\right) - e^{\\left(2 \\, \\mu\\left(r\\right)\\right)} + 1}{2 \\, r}, -\\frac{5 \\, {\\left(2 \\, \\pi r^{2} e^{\\left(2 \\, \\mu\\left(r\\right)\\right)} \\rho\\left(r\\right) + e^{\\left(2 \\, \\mu\\left(r\\right)\\right)} - 1\\right)}}{4 \\, r}\\right]</script></html>"
      ],
      "text/plain": [
       "[4*pi*r^2*rho(r),\n",
       " 1/2*(2*pi*r^2*e^(2*mu(r))*rho(r) + e^(2*mu(r)) - 1)/r,\n",
       " 1/2*(8*pi*r^2*e^(2*mu(r))*rho(r) - e^(2*mu(r)) + 1)/r,\n",
       " -5/4*(2*pi*r^2*e^(2*mu(r))*rho(r) + e^(2*mu(r)) - 1)/r]"
      ]
     },
     "execution_count": 270,
     "metadata": {},
     "output_type": "execute_result"
    }
   ],
   "source": [
    "k0 = 1/4\n",
    "rhs = [eq.rhs().subs(k=k0) for eq in eqs]\n",
    "rhs"
   ]
  },
  {
   "cell_type": "code",
   "execution_count": 271,
   "metadata": {},
   "outputs": [
    {
     "data": {
      "text/html": [
       "<html><script type=\"math/tex; mode=display\">\\newcommand{\\Bold}[1]{\\mathbf{#1}}\\left[4 \\, \\pi r^{2} \\rho\\left(r\\right) \\mathrm{u}\\left(\\rho\\left(r\\right)\\right), \\frac{2 \\, \\pi r^{2} e^{\\left(2 \\, \\mu\\left(r\\right)\\right)} \\rho\\left(r\\right) + e^{\\left(2 \\, \\mu\\left(r\\right)\\right)} - 1}{2 \\, r}, \\frac{{\\left(8 \\, \\pi r^{2} e^{\\left(2 \\, \\mu\\left(r\\right)\\right)} \\rho\\left(r\\right) - e^{\\left(2 \\, \\mu\\left(r\\right)\\right)} + 1\\right)} \\mathrm{u}\\left(\\rho\\left(r\\right)\\right)}{2 \\, r}, -\\frac{5 \\, {\\left(2 \\, \\pi r^{2} e^{\\left(2 \\, \\mu\\left(r\\right)\\right)} \\rho\\left(r\\right) + e^{\\left(2 \\, \\mu\\left(r\\right)\\right)} - 1\\right)} \\mathrm{u}\\left(\\rho\\left(r\\right)\\right)}{4 \\, r}\\right]</script></html>"
      ],
      "text/plain": [
       "[4*pi*r^2*rho(r)*unit_step(rho(r)),\n",
       " 1/2*(2*pi*r^2*e^(2*mu(r))*rho(r) + e^(2*mu(r)) - 1)/r,\n",
       " 1/2*(8*pi*r^2*e^(2*mu(r))*rho(r) - e^(2*mu(r)) + 1)*unit_step(rho(r))/r,\n",
       " -5/4*(2*pi*r^2*e^(2*mu(r))*rho(r) + e^(2*mu(r)) - 1)*unit_step(rho(r))/r]"
      ]
     },
     "execution_count": 271,
     "metadata": {},
     "output_type": "execute_result"
    }
   ],
   "source": [
    "rhs[0] = rhs[0] * unit_step(rho(r))\n",
    "rhs[2] = rhs[2] * unit_step(rho(r))\n",
    "rhs[3] = rhs[3] * unit_step(rho(r))\n",
    "rhs"
   ]
  },
  {
   "cell_type": "code",
   "execution_count": 272,
   "metadata": {},
   "outputs": [
    {
     "data": {
      "text/html": [
       "<html><script type=\"math/tex; mode=display\">\\newcommand{\\Bold}[1]{\\mathbf{#1}}\\left[4 \\, \\pi r^{2} \\rho\\left(r\\right) \\mathrm{u}\\left(\\rho\\left(r\\right)\\right), \\frac{2 \\, \\pi r^{2} e^{\\left(2 \\, \\mu\\left(r\\right)\\right)} \\rho\\left(r\\right) + e^{\\left(2 \\, \\mu\\left(r\\right)\\right)} - 1}{2 \\, r}, \\frac{{\\left(8 \\, \\pi r^{2} e^{\\left(2 \\, \\mu\\left(r\\right)\\right)} \\rho\\left(r\\right) - e^{\\left(2 \\, \\mu\\left(r\\right)\\right)} + 1\\right)} \\mathrm{u}\\left(\\rho\\left(r\\right)\\right)}{2 \\, r}, -\\frac{5 \\, {\\left(2 \\, \\pi r^{2} e^{\\left(2 \\, \\mu\\left(r\\right)\\right)} \\rho\\left(r\\right) + e^{\\left(2 \\, \\mu\\left(r\\right)\\right)} - 1\\right)} \\mathrm{u}\\left(\\rho\\left(r\\right)\\right)}{4 \\, r}, \\mathrm{u}\\left(\\rho\\left(r\\right)\\right)\\right]</script></html>"
      ],
      "text/plain": [
       "[4*pi*r^2*rho(r)*unit_step(rho(r)),\n",
       " 1/2*(2*pi*r^2*e^(2*mu(r))*rho(r) + e^(2*mu(r)) - 1)/r,\n",
       " 1/2*(8*pi*r^2*e^(2*mu(r))*rho(r) - e^(2*mu(r)) + 1)*unit_step(rho(r))/r,\n",
       " -5/4*(2*pi*r^2*e^(2*mu(r))*rho(r) + e^(2*mu(r)) - 1)*unit_step(rho(r))/r,\n",
       " unit_step(rho(r))]"
      ]
     },
     "execution_count": 272,
     "metadata": {},
     "output_type": "execute_result"
    }
   ],
   "source": [
    "rhs.append(1 * unit_step(rho(r)))\n",
    "rhs"
   ]
  },
  {
   "cell_type": "code",
   "execution_count": 273,
   "metadata": {},
   "outputs": [
    {
     "data": {
      "text/html": [
       "<html><script type=\"math/tex; mode=display\">\\newcommand{\\Bold}[1]{\\mathbf{#1}}\\left[4 \\, \\pi r^{2} \\rho_{1} \\mathrm{u}\\left(\\rho_{1}\\right), \\frac{2 \\, \\pi r^{2} \\rho_{1} e^{\\left(2 \\, \\mu_{1}\\right)} + e^{\\left(2 \\, \\mu_{1}\\right)} - 1}{2 \\, r}, \\frac{{\\left(8 \\, \\pi r^{2} \\rho_{1} e^{\\left(2 \\, \\mu_{1}\\right)} - e^{\\left(2 \\, \\mu_{1}\\right)} + 1\\right)} \\mathrm{u}\\left(\\rho_{1}\\right)}{2 \\, r}, -\\frac{5 \\, {\\left(2 \\, \\pi r^{2} \\rho_{1} e^{\\left(2 \\, \\mu_{1}\\right)} + e^{\\left(2 \\, \\mu_{1}\\right)} - 1\\right)} \\mathrm{u}\\left(\\rho_{1}\\right)}{4 \\, r}, \\mathrm{u}\\left(\\rho_{1}\\right)\\right]</script></html>"
      ],
      "text/plain": [
       "[4*pi*r^2*rho_1*unit_step(rho_1),\n",
       " 1/2*(2*pi*r^2*rho_1*e^(2*mu_1) + e^(2*mu_1) - 1)/r,\n",
       " 1/2*(8*pi*r^2*rho_1*e^(2*mu_1) - e^(2*mu_1) + 1)*unit_step(rho_1)/r,\n",
       " -5/4*(2*pi*r^2*rho_1*e^(2*mu_1) + e^(2*mu_1) - 1)*unit_step(rho_1)/r,\n",
       " unit_step(rho_1)]"
      ]
     },
     "execution_count": 273,
     "metadata": {},
     "output_type": "execute_result"
    }
   ],
   "source": [
    "var('m_1 nu_1 mu_1 rho_1 r_1')\n",
    "rhs = [y.subs({m(r): m_1, nu(r): nu_1, mu(r): mu_1, rho(r): rho_1}) for y in rhs]\n",
    "rhs"
   ]
  },
  {
   "cell_type": "markdown",
   "metadata": {},
   "source": [
    "The integration parameters:"
   ]
  },
  {
   "cell_type": "code",
   "execution_count": 274,
   "metadata": {},
   "outputs": [],
   "source": [
    "rho_c = 1\n",
    "r_min = 1e-8\n",
    "r_max = 1\n",
    "np = 200\n",
    "delta_r = (r_max - r_min) / (np-1)"
   ]
  },
  {
   "cell_type": "code",
   "execution_count": 275,
   "metadata": {},
   "outputs": [],
   "source": [
    "sol = desolve_system_rk4(rhs, vars=(m_1, nu_1, mu_1, rho_1, r_1), ivar=r, \n",
    "                         ics=[r_min, 0, 0, 0, rho_c, r_min], \n",
    "                         end_points=r_max, step=delta_r)"
   ]
  },
  {
   "cell_type": "markdown",
   "metadata": {},
   "source": [
    "The solution is returned as a list, the first 10 elements of which being:"
   ]
  },
  {
   "cell_type": "code",
   "execution_count": 276,
   "metadata": {},
   "outputs": [
    {
     "data": {
      "text/html": [
       "<html><script type=\"math/tex; mode=display\">\\newcommand{\\Bold}[1]{\\mathbf{#1}}\\left[\\left[1.00000000000000 \\times 10^{-8}, 0, 0, 0, 1, 1.00000000000000 \\times 10^{-8}\\right], \\left[0.00502513557788945, 5.31396741550669 \\times 10^{-07}, 9.25532372054304 \\times 10^{-05}, 0.000105749840690458, 0.9997686169069864, 0.005025135577889449\\right], \\left[0.0100502611557789, 4.24980303772615 \\times 10^{-06}, 0.000370224361934933, 0.000423027295020575, 0.9990744390951626, 0.0100502611557789\\right], \\left[0.01507538673366835, 1.43333190735812 \\times 10^{-05}, 0.000833083042424976, 0.000951675756088545, 0.9979172923939374, 0.01507538673366835\\right], \\left[0.0201005123115578, 3.39423464338861 \\times 10^{-05}, 0.001481215890995345, 0.00169148380781732, 0.9962969602725116, 0.0201005123115578\\right], \\left[0.02512563788944725, 6.62107015612164 \\times 10^{-05}, 0.00231474617359045, 0.002642148938139912, 0.9942131345660238, 0.02512563788944725\\right], \\left[0.0301507634673367, 0.000114236732548861, 0.003333829871080111, 0.003803274324071593, 0.9916654253222996, 0.0301507634673367\\right], \\left[0.03517588904522615, 0.000181074420824379, 0.004538652717457708, 0.005174363425234091, 0.9886533682063556, 0.03517588904522614\\right], \\left[0.0402010146231156, 0.000269724463855163, 0.005929426889471464, 0.006754813121199269, 0.9851764327763213, 0.04020101462311559\\right], \\left[0.04522614020100505, 0.000383125336337687, 0.007506387121545179, 0.008543905470697742, 0.981234032196137, 0.04522614020100504\\right], \\left[0.0502512657788945, 0.000524144328242327, 0.009269786165698922, 0.01054079807953191, 0.9768255345857527, 0.05025126577889449\\right], \\left[0.05527639135678395, 0.000695568559082542, 0.0112198895437878, 0.0127445130412501, 0.9719502761405305, 0.05527639135678394\\right], \\left[0.0603015169346734, 0.000900095968933555, 0.01335696954360589, 0.01515392440559094, 0.9666075761409854, 0.06030151693467339\\right], \\left[0.06532664251256284, 0.001140326288067823, 0.01568129840861148, 0.01776774412480066, 0.9607967539784714, 0.06532664251256284\\right], \\left[0.0703517680904523, 0.001418751988621439, 0.01819314066746262, 0.02058450642505146, 0.9545171483313436, 0.0703517680904523\\right], \\left[0.07537689366834174, 0.001737749223476009, 0.02089274454551087, 0.02360255054891584, 0.947768138636223, 0.07537689366834174\\right], \\left[0.0804020192462312, 0.002099568759553928, 0.02378033239639703, 0.02682000181523224, 0.9405491690090076, 0.0804020192462312\\right], \\left[0.08542714482412064, 0.002506326915002085, 0.02685609008820151, 0.03023475094496551, 0.9328597747794964, 0.08542714482412064\\right], \\left[0.0904522704020101, 0.002959996512301069, 0.03012015527543681, 0.03384443160615494, 0.9246996118114081, 0.0904522704020101\\right], \\left[0.09547739597989954, 0.003462397862206089, 0.03357260448573991, 0.03764639613815692, 0.9160684887856504, 0.09547739597989954\\right]\\right]</script></html>"
      ],
      "text/plain": [
       "[[1.00000000000000e-8, 0, 0, 0, 1, 1.00000000000000e-8],\n",
       " [0.00502513557788945,\n",
       "  5.31396741550669e-07,\n",
       "  9.25532372054304e-05,\n",
       "  0.000105749840690458,\n",
       "  0.9997686169069864,\n",
       "  0.005025135577889449],\n",
       " [0.0100502611557789,\n",
       "  4.24980303772615e-06,\n",
       "  0.000370224361934933,\n",
       "  0.000423027295020575,\n",
       "  0.9990744390951626,\n",
       "  0.0100502611557789],\n",
       " [0.01507538673366835,\n",
       "  1.43333190735812e-05,\n",
       "  0.000833083042424976,\n",
       "  0.000951675756088545,\n",
       "  0.9979172923939374,\n",
       "  0.01507538673366835],\n",
       " [0.0201005123115578,\n",
       "  3.39423464338861e-05,\n",
       "  0.001481215890995345,\n",
       "  0.00169148380781732,\n",
       "  0.9962969602725116,\n",
       "  0.0201005123115578],\n",
       " [0.02512563788944725,\n",
       "  6.62107015612164e-05,\n",
       "  0.00231474617359045,\n",
       "  0.002642148938139912,\n",
       "  0.9942131345660238,\n",
       "  0.02512563788944725],\n",
       " [0.0301507634673367,\n",
       "  0.000114236732548861,\n",
       "  0.003333829871080111,\n",
       "  0.003803274324071593,\n",
       "  0.9916654253222996,\n",
       "  0.0301507634673367],\n",
       " [0.03517588904522615,\n",
       "  0.000181074420824379,\n",
       "  0.004538652717457708,\n",
       "  0.005174363425234091,\n",
       "  0.9886533682063556,\n",
       "  0.03517588904522614],\n",
       " [0.0402010146231156,\n",
       "  0.000269724463855163,\n",
       "  0.005929426889471464,\n",
       "  0.006754813121199269,\n",
       "  0.9851764327763213,\n",
       "  0.04020101462311559],\n",
       " [0.04522614020100505,\n",
       "  0.000383125336337687,\n",
       "  0.007506387121545179,\n",
       "  0.008543905470697742,\n",
       "  0.981234032196137,\n",
       "  0.04522614020100504],\n",
       " [0.0502512657788945,\n",
       "  0.000524144328242327,\n",
       "  0.009269786165698922,\n",
       "  0.01054079807953191,\n",
       "  0.9768255345857527,\n",
       "  0.05025126577889449],\n",
       " [0.05527639135678395,\n",
       "  0.000695568559082542,\n",
       "  0.0112198895437878,\n",
       "  0.0127445130412501,\n",
       "  0.9719502761405305,\n",
       "  0.05527639135678394],\n",
       " [0.0603015169346734,\n",
       "  0.000900095968933555,\n",
       "  0.01335696954360589,\n",
       "  0.01515392440559094,\n",
       "  0.9666075761409854,\n",
       "  0.06030151693467339],\n",
       " [0.06532664251256284,\n",
       "  0.001140326288067823,\n",
       "  0.01568129840861148,\n",
       "  0.01776774412480066,\n",
       "  0.9607967539784714,\n",
       "  0.06532664251256284],\n",
       " [0.0703517680904523,\n",
       "  0.001418751988621439,\n",
       "  0.01819314066746262,\n",
       "  0.02058450642505146,\n",
       "  0.9545171483313436,\n",
       "  0.0703517680904523],\n",
       " [0.07537689366834174,\n",
       "  0.001737749223476009,\n",
       "  0.02089274454551087,\n",
       "  0.02360255054891584,\n",
       "  0.947768138636223,\n",
       "  0.07537689366834174],\n",
       " [0.0804020192462312,\n",
       "  0.002099568759553928,\n",
       "  0.02378033239639703,\n",
       "  0.02682000181523224,\n",
       "  0.9405491690090076,\n",
       "  0.0804020192462312],\n",
       " [0.08542714482412064,\n",
       "  0.002506326915002085,\n",
       "  0.02685609008820151,\n",
       "  0.03023475094496551,\n",
       "  0.9328597747794964,\n",
       "  0.08542714482412064],\n",
       " [0.0904522704020101,\n",
       "  0.002959996512301069,\n",
       "  0.03012015527543681,\n",
       "  0.03384443160615494,\n",
       "  0.9246996118114081,\n",
       "  0.0904522704020101],\n",
       " [0.09547739597989954,\n",
       "  0.003462397862206089,\n",
       "  0.03357260448573991,\n",
       "  0.03764639613815692,\n",
       "  0.9160684887856504,\n",
       "  0.09547739597989954]]"
      ]
     },
     "execution_count": 276,
     "metadata": {},
     "output_type": "execute_result"
    }
   ],
   "source": [
    "sol[:20]"
   ]
  },
  {
   "cell_type": "code",
   "execution_count": 277,
   "metadata": {},
   "outputs": [
    {
     "data": {
      "text/html": [
       "<html><script type=\"math/tex; mode=display\">\\newcommand{\\Bold}[1]{\\mathbf{#1}}\\left[\\left(1.00000000000000 \\times 10^{-8}, 1\\right), \\left(0.00502513557788945, 0.9997686169069864\\right), \\left(0.0100502611557789, 0.9990744390951626\\right), \\left(0.01507538673366835, 0.9979172923939374\\right), \\left(0.0201005123115578, 0.9962969602725116\\right), \\left(0.02512563788944725, 0.9942131345660238\\right), \\left(0.0301507634673367, 0.9916654253222996\\right), \\left(0.03517588904522615, 0.9886533682063556\\right), \\left(0.0402010146231156, 0.9851764327763213\\right), \\left(0.04522614020100505, 0.981234032196137\\right)\\right]</script></html>"
      ],
      "text/plain": [
       "[(1.00000000000000e-8, 1),\n",
       " (0.00502513557788945, 0.9997686169069864),\n",
       " (0.0100502611557789, 0.9990744390951626),\n",
       " (0.01507538673366835, 0.9979172923939374),\n",
       " (0.0201005123115578, 0.9962969602725116),\n",
       " (0.02512563788944725, 0.9942131345660238),\n",
       " (0.0301507634673367, 0.9916654253222996),\n",
       " (0.03517588904522615, 0.9886533682063556),\n",
       " (0.0402010146231156, 0.9851764327763213),\n",
       " (0.04522614020100505, 0.981234032196137)]"
      ]
     },
     "execution_count": 277,
     "metadata": {},
     "output_type": "execute_result"
    }
   ],
   "source": [
    "rho_sol = [(s[0], s[4]) for s in sol]\n",
    "rho_sol[:10]"
   ]
  },
  {
   "cell_type": "code",
   "execution_count": 278,
   "metadata": {},
   "outputs": [
    {
     "data": {
      "image/png": "[encoded data removed]",
      "text/plain": [
       "Graphics object consisting of 1 graphics primitive"
      ]
     },
     "execution_count": 278,
     "metadata": {},
     "output_type": "execute_result"
    }
   ],
   "source": [
    "graph = line(rho_sol, axes_labels=[r'$r$', r'$\\rho$'], gridlines=True)\n",
    "graph"
   ]
  },
  {
   "cell_type": "markdown",
   "metadata": {},
   "source": [
    "The solution for $m(r)$:"
   ]
  },
  {
   "cell_type": "code",
   "execution_count": 279,
   "metadata": {},
   "outputs": [
    {
     "data": {
      "text/html": [
       "<html><script type=\"math/tex; mode=display\">\\newcommand{\\Bold}[1]{\\mathbf{#1}}\\left[\\left(1.00000000000000 \\times 10^{-8}, 0\\right), \\left(0.00502513557788945, 5.31396741550669 \\times 10^{-07}\\right), \\left(0.0100502611557789, 4.24980303772615 \\times 10^{-06}\\right), \\left(0.01507538673366835, 1.43333190735812 \\times 10^{-05}\\right), \\left(0.0201005123115578, 3.39423464338861 \\times 10^{-05}\\right), \\left(0.02512563788944725, 6.62107015612164 \\times 10^{-05}\\right), \\left(0.0301507634673367, 0.000114236732548861\\right), \\left(0.03517588904522615, 0.000181074420824379\\right), \\left(0.0402010146231156, 0.000269724463855163\\right), \\left(0.04522614020100505, 0.000383125336337687\\right)\\right]</script></html>"
      ],
      "text/plain": [
       "[(1.00000000000000e-8, 0),\n",
       " (0.00502513557788945, 5.31396741550669e-07),\n",
       " (0.0100502611557789, 4.24980303772615e-06),\n",
       " (0.01507538673366835, 1.43333190735812e-05),\n",
       " (0.0201005123115578, 3.39423464338861e-05),\n",
       " (0.02512563788944725, 6.62107015612164e-05),\n",
       " (0.0301507634673367, 0.000114236732548861),\n",
       " (0.03517588904522615, 0.000181074420824379),\n",
       " (0.0402010146231156, 0.000269724463855163),\n",
       " (0.04522614020100505, 0.000383125336337687)]"
      ]
     },
     "execution_count": 279,
     "metadata": {},
     "output_type": "execute_result"
    }
   ],
   "source": [
    "m_sol = [(s[0], s[1]) for s in sol]\n",
    "m_sol[:10]"
   ]
  },
  {
   "cell_type": "code",
   "execution_count": 280,
   "metadata": {},
   "outputs": [
    {
     "data": {
      "image/png": "[encoded data removed]",
      "text/plain": [
       "Graphics object consisting of 1 graphics primitive"
      ]
     },
     "execution_count": 280,
     "metadata": {},
     "output_type": "execute_result"
    }
   ],
   "source": [
    "graph = line(m_sol, axes_labels=[r'$r$', r'$m$'], gridlines=True)\n",
    "graph"
   ]
  },
  {
   "cell_type": "markdown",
   "metadata": {},
   "source": [
    "The solution for $\\nu(r)$ (has to be rescaled by adding a constant to ensure $\\nu(+\\infty) = 1$):"
   ]
  },
  {
   "cell_type": "code",
   "execution_count": 281,
   "metadata": {},
   "outputs": [
    {
     "data": {
      "text/html": [
       "<html><script type=\"math/tex; mode=display\">\\newcommand{\\Bold}[1]{\\mathbf{#1}}\\left[\\left(1.00000000000000 \\times 10^{-8}, 0\\right), \\left(0.00502513557788945, 9.25532372054304 \\times 10^{-05}\\right), \\left(0.0100502611557789, 0.000370224361934933\\right), \\left(0.01507538673366835, 0.000833083042424976\\right), \\left(0.0201005123115578, 0.001481215890995345\\right), \\left(0.02512563788944725, 0.00231474617359045\\right), \\left(0.0301507634673367, 0.003333829871080111\\right), \\left(0.03517588904522615, 0.004538652717457708\\right), \\left(0.0402010146231156, 0.005929426889471464\\right), \\left(0.04522614020100505, 0.007506387121545179\\right)\\right]</script></html>"
      ],
      "text/plain": [
       "[(1.00000000000000e-8, 0),\n",
       " (0.00502513557788945, 9.25532372054304e-05),\n",
       " (0.0100502611557789, 0.000370224361934933),\n",
       " (0.01507538673366835, 0.000833083042424976),\n",
       " (0.0201005123115578, 0.001481215890995345),\n",
       " (0.02512563788944725, 0.00231474617359045),\n",
       " (0.0301507634673367, 0.003333829871080111),\n",
       " (0.03517588904522615, 0.004538652717457708),\n",
       " (0.0402010146231156, 0.005929426889471464),\n",
       " (0.04522614020100505, 0.007506387121545179)]"
      ]
     },
     "execution_count": 281,
     "metadata": {},
     "output_type": "execute_result"
    }
   ],
   "source": [
    "mu_sol = [(s[0], s[2]) for s in sol]\n",
    "mu_sol[:10]"
   ]
  },
  {
   "cell_type": "code",
   "execution_count": 282,
   "metadata": {},
   "outputs": [
    {
     "data": {
      "image/png": "[encoded data removed]",
      "text/plain": [
       "Graphics object consisting of 1 graphics primitive"
      ]
     },
     "execution_count": 282,
     "metadata": {},
     "output_type": "execute_result"
    }
   ],
   "source": [
    "graph = line(mu_sol, axes_labels=[r'$r$', r'$\\tilde{\\nu}$'], gridlines=True)\n",
    "graph"
   ]
  },
  {
   "cell_type": "code",
   "execution_count": 283,
   "metadata": {},
   "outputs": [
    {
     "data": {
      "text/html": [
       "<html><script type=\"math/tex; mode=display\">\\newcommand{\\Bold}[1]{\\mathbf{#1}}\\left[\\left(1.00000000000000 \\times 10^{-8}, 0\\right), \\left(0.00502513557788945, 0.000105749840690458\\right), \\left(0.0100502611557789, 0.000423027295020575\\right), \\left(0.01507538673366835, 0.000951675756088545\\right), \\left(0.0201005123115578, 0.00169148380781732\\right), \\left(0.02512563788944725, 0.002642148938139912\\right), \\left(0.0301507634673367, 0.003803274324071593\\right), \\left(0.03517588904522615, 0.005174363425234091\\right), \\left(0.0402010146231156, 0.006754813121199269\\right), \\left(0.04522614020100505, 0.008543905470697742\\right)\\right]</script></html>"
      ],
      "text/plain": [
       "[(1.00000000000000e-8, 0),\n",
       " (0.00502513557788945, 0.000105749840690458),\n",
       " (0.0100502611557789, 0.000423027295020575),\n",
       " (0.01507538673366835, 0.000951675756088545),\n",
       " (0.0201005123115578, 0.00169148380781732),\n",
       " (0.02512563788944725, 0.002642148938139912),\n",
       " (0.0301507634673367, 0.003803274324071593),\n",
       " (0.03517588904522615, 0.005174363425234091),\n",
       " (0.0402010146231156, 0.006754813121199269),\n",
       " (0.04522614020100505, 0.008543905470697742)]"
      ]
     },
     "execution_count": 283,
     "metadata": {},
     "output_type": "execute_result"
    }
   ],
   "source": [
    "mu_sol = [(s[0], s[3]) for s in sol]\n",
    "mu_sol[:10]"
   ]
  },
  {
   "cell_type": "code",
   "execution_count": 284,
   "metadata": {},
   "outputs": [
    {
     "data": {
      "image/png": "[encoded data removed]",
      "text/plain": [
       "Graphics object consisting of 1 graphics primitive"
      ]
     },
     "execution_count": 284,
     "metadata": {},
     "output_type": "execute_result"
    }
   ],
   "source": [
    "graph = line(mu_sol, axes_labels=[r'$r$', r'$\\tilde{\\mu}$'], gridlines=True)\n",
    "graph"
   ]
  },
  {
   "cell_type": "markdown",
   "metadata": {},
   "source": [
    "The solution for $R(r)$:"
   ]
  },
  {
   "cell_type": "code",
   "execution_count": 285,
   "metadata": {},
   "outputs": [
    {
     "data": {
      "image/png": "[encoded data removed]",
      "text/plain": [
       "Graphics object consisting of 1 graphics primitive"
      ]
     },
     "execution_count": 285,
     "metadata": {},
     "output_type": "execute_result"
    }
   ],
   "source": [
    "r_sol = [(s[0], s[5]) for s in sol]\n",
    "line(r_sol)"
   ]
  },
  {
   "cell_type": "markdown",
   "metadata": {},
   "source": [
    "The total gravitational mass of the star is obtained via the last element (index: `-1`) of the list of $(r,m(r))$ values:"
   ]
  },
  {
   "cell_type": "code",
   "execution_count": 286,
   "metadata": {},
   "outputs": [
    {
     "data": {
      "text/html": [
       "<html><script type=\"math/tex; mode=display\">\\newcommand{\\Bold}[1]{\\mathbf{#1}}0.07224954702081957</script></html>"
      ],
      "text/plain": [
       "0.07224954702081957"
      ]
     },
     "execution_count": 286,
     "metadata": {},
     "output_type": "execute_result"
    }
   ],
   "source": [
    "M_grav = m_sol[-1][1]\n",
    "M_grav"
   ]
  },
  {
   "cell_type": "markdown",
   "metadata": {},
   "source": [
    "Similarly, the stellar radius is obtained through the last element of the list of $(r,R(r))$ values:"
   ]
  },
  {
   "cell_type": "code",
   "execution_count": 287,
   "metadata": {},
   "outputs": [
    {
     "data": {
      "text/html": [
       "<html><script type=\"math/tex; mode=display\">\\newcommand{\\Bold}[1]{\\mathbf{#1}}0.3886097213567834</script></html>"
      ],
      "text/plain": [
       "0.3886097213567834"
      ]
     },
     "execution_count": 287,
     "metadata": {},
     "output_type": "execute_result"
    }
   ],
   "source": [
    "R = r_sol[-1][1]\n",
    "R"
   ]
  },
  {
   "cell_type": "markdown",
   "metadata": {},
   "source": [
    "The star's compactness:"
   ]
  },
  {
   "cell_type": "code",
   "execution_count": 288,
   "metadata": {},
   "outputs": [
    {
     "data": {
      "text/html": [
       "<html><script type=\"math/tex; mode=display\">\\newcommand{\\Bold}[1]{\\mathbf{#1}}0.18591801246908876</script></html>"
      ],
      "text/plain": [
       "0.18591801246908876"
      ]
     },
     "execution_count": 288,
     "metadata": {},
     "output_type": "execute_result"
    }
   ],
   "source": [
    "M_grav/R"
   ]
  },
  {
   "cell_type": "markdown",
   "metadata": {},
   "source": [
    "### Sequence of stellar models\n",
    "\n",
    "Let us perform a loop on the central density.\n",
    "First we set up a list of values for $\\rho_c$:"
   ]
  },
  {
   "cell_type": "code",
   "execution_count": 289,
   "metadata": {},
   "outputs": [
    {
     "data": {
      "text/html": [
       "<html><script type=\"math/tex; mode=display\">\\newcommand{\\Bold}[1]{\\mathbf{#1}}\\left[0.0100000000000000, 0.0866666666666667, 0.163333333333333, 0.240000000000000, 0.316666666666667, 0.393333333333333, 0.470000000000000, 0.546666666666667, 0.623333333333333, 0.700000000000000, 0.776666666666667, 0.853333333333333, 0.930000000000000, 1.00666666666667, 1.08333333333333, 1.16000000000000, 1.23666666666667, 1.31333333333333, 1.39000000000000, 1.46666666666667, 1.54333333333333, 1.62000000000000, 1.69666666666667, 1.77333333333333, 1.85000000000000, 1.92666666666667, 2.00333333333333, 2.08000000000000, 2.15666666666667, 2.23333333333333, 2.31000000000000, 2.38666666666667, 2.46333333333333, 2.54000000000000, 2.61666666666667, 2.69333333333333, 2.77000000000000, 2.84666666666667, 2.92333333333333, 3.00000000000000\\right]</script></html>"
      ],
      "text/plain": [
       "[0.0100000000000000,\n",
       " 0.0866666666666667,\n",
       " 0.163333333333333,\n",
       " 0.240000000000000,\n",
       " 0.316666666666667,\n",
       " 0.393333333333333,\n",
       " 0.470000000000000,\n",
       " 0.546666666666667,\n",
       " 0.623333333333333,\n",
       " 0.700000000000000,\n",
       " 0.776666666666667,\n",
       " 0.853333333333333,\n",
       " 0.930000000000000,\n",
       " 1.00666666666667,\n",
       " 1.08333333333333,\n",
       " 1.16000000000000,\n",
       " 1.23666666666667,\n",
       " 1.31333333333333,\n",
       " 1.39000000000000,\n",
       " 1.46666666666667,\n",
       " 1.54333333333333,\n",
       " 1.62000000000000,\n",
       " 1.69666666666667,\n",
       " 1.77333333333333,\n",
       " 1.85000000000000,\n",
       " 1.92666666666667,\n",
       " 2.00333333333333,\n",
       " 2.08000000000000,\n",
       " 2.15666666666667,\n",
       " 2.23333333333333,\n",
       " 2.31000000000000,\n",
       " 2.38666666666667,\n",
       " 2.46333333333333,\n",
       " 2.54000000000000,\n",
       " 2.61666666666667,\n",
       " 2.69333333333333,\n",
       " 2.77000000000000,\n",
       " 2.84666666666667,\n",
       " 2.92333333333333,\n",
       " 3.00000000000000]"
      ]
     },
     "execution_count": 289,
     "metadata": {},
     "output_type": "execute_result"
    }
   ],
   "source": [
    "rho_c_min = 0.01\n",
    "rho_c_max = 3\n",
    "n_conf = 40\n",
    "rho_c_list = [rho_c_min + i * (rho_c_max-rho_c_min)/(n_conf-1) for i in range(n_conf)]\n",
    "rho_c_list"
   ]
  },
  {
   "cell_type": "markdown",
   "metadata": {},
   "source": [
    "The loop:"
   ]
  },
  {
   "cell_type": "code",
   "execution_count": 298,
   "metadata": {},
   "outputs": [],
   "source": [
    "M_list = list()\n",
    "R_list = list()\n",
    "for rho_c in rho_c_list:\n",
    "    sol = desolve_system_rk4(rhs, vars=(m_1, nu_1, mu_1, rho_1, r_1), ivar=r, \n",
    "                         ics=[r_min, 0, 0, 0, rho_c, r_min], \n",
    "                         end_points=r_max, step=delta_r)\n",
    "    M_list.append( sol[-1][1] )\n",
    "    R_list.append( sol[-1][5] )"
   ]
  },
  {
   "cell_type": "markdown",
   "metadata": {},
   "source": [
    "The mass along the sequence:"
   ]
  },
  {
   "cell_type": "code",
   "execution_count": 299,
   "metadata": {},
   "outputs": [
    {
     "data": {
      "text/html": [
       "<html><script type=\"math/tex; mode=display\">\\newcommand{\\Bold}[1]{\\mathbf{#1}}\\left[0.001189886676025332, 0.009897061310683802, 0.01790582778207476, 0.02527321495410726, 0.03204471174560651, 0.03826000392018375, 0.04397232769679389, 0.04920438475078927, 0.05400982114732816, 0.0583976386729527, 0.06241759669608337, 0.06610035179084067, 0.06944599607893454, 0.07250170888543088, 0.07527895070090417, 0.07782009542452883, 0.0801072307912774, 0.08217401943637415, 0.08404917418765533, 0.08572826846893149, 0.08723479839158123, 0.08858382019731129, 0.08978461382647118, 0.09084868873653265, 0.09178891379655392, 0.09261292957917502, 0.09331541545923726, 0.09393309256482386, 0.09445649341589175, 0.09489071203481585, 0.09521511059884537, 0.0954977575311802, 0.09570944480845721, 0.09587345768232286, 0.09593232896613448, 0.09597698382016535, 0.09597386419498914, 0.09593458619772369, 0.09580536948870598, 0.0956747617270982\\right]</script></html>"
      ],
      "text/plain": [
       "[0.001189886676025332,\n",
       " 0.009897061310683802,\n",
       " 0.01790582778207476,\n",
       " 0.02527321495410726,\n",
       " 0.03204471174560651,\n",
       " 0.03826000392018375,\n",
       " 0.04397232769679389,\n",
       " 0.04920438475078927,\n",
       " 0.05400982114732816,\n",
       " 0.0583976386729527,\n",
       " 0.06241759669608337,\n",
       " 0.06610035179084067,\n",
       " 0.06944599607893454,\n",
       " 0.07250170888543088,\n",
       " 0.07527895070090417,\n",
       " 0.07782009542452883,\n",
       " 0.0801072307912774,\n",
       " 0.08217401943637415,\n",
       " 0.08404917418765533,\n",
       " 0.08572826846893149,\n",
       " 0.08723479839158123,\n",
       " 0.08858382019731129,\n",
       " 0.08978461382647118,\n",
       " 0.09084868873653265,\n",
       " 0.09178891379655392,\n",
       " 0.09261292957917502,\n",
       " 0.09331541545923726,\n",
       " 0.09393309256482386,\n",
       " 0.09445649341589175,\n",
       " 0.09489071203481585,\n",
       " 0.09521511059884537,\n",
       " 0.0954977575311802,\n",
       " 0.09570944480845721,\n",
       " 0.09587345768232286,\n",
       " 0.09593232896613448,\n",
       " 0.09597698382016535,\n",
       " 0.09597386419498914,\n",
       " 0.09593458619772369,\n",
       " 0.09580536948870598,\n",
       " 0.0956747617270982]"
      ]
     },
     "execution_count": 299,
     "metadata": {},
     "output_type": "execute_result"
    }
   ],
   "source": [
    "M_list"
   ]
  },
  {
   "cell_type": "markdown",
   "metadata": {},
   "source": [
    "The radius along the sequence:"
   ]
  },
  {
   "cell_type": "code",
   "execution_count": 300,
   "metadata": {},
   "outputs": [
    {
     "data": {
      "text/html": [
       "<html><script type=\"math/tex; mode=display\">\\newcommand{\\Bold}[1]{\\mathbf{#1}}\\left[0.4849246282663306, 0.4748743771105518, 0.4664991678140694, 0.4589614794472353, 0.4497487492211047, 0.4413735399246223, 0.4346733724874364, 0.426298163190954, 0.4195979957537682, 0.4145728701758787, 0.4061976608793963, 0.3994974934422105, 0.394472367864321, 0.3860971585678387, 0.3810720329899492, 0.3743718655527634, 0.3693467399748739, 0.3643216143969845, 0.3584589678894469, 0.3534338423115574, 0.348408716733668, 0.3408710283668339, 0.3358459027889444, 0.3333333399999998, 0.3283082144221103, 0.3232830888442209, 0.3190954841959797, 0.3140703586180903, 0.3090452330402009, 0.3040201074623115, 0.3006700237437185, 0.2981574609547738, 0.2939698563065326, 0.2889447307286432, 0.2855946470100502, 0.2805695214321608, 0.2788944795728643, 0.2738693539949749, 0.270519270276382, 0.2688442284170855\\right]</script></html>"
      ],
      "text/plain": [
       "[0.4849246282663306,\n",
       " 0.4748743771105518,\n",
       " 0.4664991678140694,\n",
       " 0.4589614794472353,\n",
       " 0.4497487492211047,\n",
       " 0.4413735399246223,\n",
       " 0.4346733724874364,\n",
       " 0.426298163190954,\n",
       " 0.4195979957537682,\n",
       " 0.4145728701758787,\n",
       " 0.4061976608793963,\n",
       " 0.3994974934422105,\n",
       " 0.394472367864321,\n",
       " 0.3860971585678387,\n",
       " 0.3810720329899492,\n",
       " 0.3743718655527634,\n",
       " 0.3693467399748739,\n",
       " 0.3643216143969845,\n",
       " 0.3584589678894469,\n",
       " 0.3534338423115574,\n",
       " 0.348408716733668,\n",
       " 0.3408710283668339,\n",
       " 0.3358459027889444,\n",
       " 0.3333333399999998,\n",
       " 0.3283082144221103,\n",
       " 0.3232830888442209,\n",
       " 0.3190954841959797,\n",
       " 0.3140703586180903,\n",
       " 0.3090452330402009,\n",
       " 0.3040201074623115,\n",
       " 0.3006700237437185,\n",
       " 0.2981574609547738,\n",
       " 0.2939698563065326,\n",
       " 0.2889447307286432,\n",
       " 0.2855946470100502,\n",
       " 0.2805695214321608,\n",
       " 0.2788944795728643,\n",
       " 0.2738693539949749,\n",
       " 0.270519270276382,\n",
       " 0.2688442284170855]"
      ]
     },
     "execution_count": 300,
     "metadata": {},
     "output_type": "execute_result"
    }
   ],
   "source": [
    "R_list"
   ]
  },
  {
   "cell_type": "markdown",
   "metadata": {},
   "source": [
    "To draw $M$ as a function of $\\rho_{\\rm c}$, we use the Python function `zip` to construct a list of $(\\rho_{\\rm c}, M)$ values:"
   ]
  },
  {
   "cell_type": "code",
   "execution_count": 301,
   "metadata": {},
   "outputs": [
    {
     "data": {
      "text/html": [
       "<html><script type=\"math/tex; mode=display\">\\newcommand{\\Bold}[1]{\\mathbf{#1}}\\left[\\left(0.0100000000000000, 0.001189886676025332\\right), \\left(0.0866666666666667, 0.009897061310683802\\right), \\left(0.163333333333333, 0.01790582778207476\\right), \\left(0.240000000000000, 0.02527321495410726\\right), \\left(0.316666666666667, 0.03204471174560651\\right), \\left(0.393333333333333, 0.03826000392018375\\right), \\left(0.470000000000000, 0.04397232769679389\\right), \\left(0.546666666666667, 0.04920438475078927\\right), \\left(0.623333333333333, 0.05400982114732816\\right), \\left(0.700000000000000, 0.0583976386729527\\right), \\left(0.776666666666667, 0.06241759669608337\\right), \\left(0.853333333333333, 0.06610035179084067\\right), \\left(0.930000000000000, 0.06944599607893454\\right), \\left(1.00666666666667, 0.07250170888543088\\right), \\left(1.08333333333333, 0.07527895070090417\\right), \\left(1.16000000000000, 0.07782009542452883\\right), \\left(1.23666666666667, 0.0801072307912774\\right), \\left(1.31333333333333, 0.08217401943637415\\right), \\left(1.39000000000000, 0.08404917418765533\\right), \\left(1.46666666666667, 0.08572826846893149\\right), \\left(1.54333333333333, 0.08723479839158123\\right), \\left(1.62000000000000, 0.08858382019731129\\right), \\left(1.69666666666667, 0.08978461382647118\\right), \\left(1.77333333333333, 0.09084868873653265\\right), \\left(1.85000000000000, 0.09178891379655392\\right), \\left(1.92666666666667, 0.09261292957917502\\right), \\left(2.00333333333333, 0.09331541545923726\\right), \\left(2.08000000000000, 0.09393309256482386\\right), \\left(2.15666666666667, 0.09445649341589175\\right), \\left(2.23333333333333, 0.09489071203481585\\right), \\left(2.31000000000000, 0.09521511059884537\\right), \\left(2.38666666666667, 0.0954977575311802\\right), \\left(2.46333333333333, 0.09570944480845721\\right), \\left(2.54000000000000, 0.09587345768232286\\right), \\left(2.61666666666667, 0.09593232896613448\\right), \\left(2.69333333333333, 0.09597698382016535\\right), \\left(2.77000000000000, 0.09597386419498914\\right), \\left(2.84666666666667, 0.09593458619772369\\right), \\left(2.92333333333333, 0.09580536948870598\\right), \\left(3.00000000000000, 0.0956747617270982\\right)\\right]</script></html>"
      ],
      "text/plain": [
       "[(0.0100000000000000, 0.001189886676025332),\n",
       " (0.0866666666666667, 0.009897061310683802),\n",
       " (0.163333333333333, 0.01790582778207476),\n",
       " (0.240000000000000, 0.02527321495410726),\n",
       " (0.316666666666667, 0.03204471174560651),\n",
       " (0.393333333333333, 0.03826000392018375),\n",
       " (0.470000000000000, 0.04397232769679389),\n",
       " (0.546666666666667, 0.04920438475078927),\n",
       " (0.623333333333333, 0.05400982114732816),\n",
       " (0.700000000000000, 0.0583976386729527),\n",
       " (0.776666666666667, 0.06241759669608337),\n",
       " (0.853333333333333, 0.06610035179084067),\n",
       " (0.930000000000000, 0.06944599607893454),\n",
       " (1.00666666666667, 0.07250170888543088),\n",
       " (1.08333333333333, 0.07527895070090417),\n",
       " (1.16000000000000, 0.07782009542452883),\n",
       " (1.23666666666667, 0.0801072307912774),\n",
       " (1.31333333333333, 0.08217401943637415),\n",
       " (1.39000000000000, 0.08404917418765533),\n",
       " (1.46666666666667, 0.08572826846893149),\n",
       " (1.54333333333333, 0.08723479839158123),\n",
       " (1.62000000000000, 0.08858382019731129),\n",
       " (1.69666666666667, 0.08978461382647118),\n",
       " (1.77333333333333, 0.09084868873653265),\n",
       " (1.85000000000000, 0.09178891379655392),\n",
       " (1.92666666666667, 0.09261292957917502),\n",
       " (2.00333333333333, 0.09331541545923726),\n",
       " (2.08000000000000, 0.09393309256482386),\n",
       " (2.15666666666667, 0.09445649341589175),\n",
       " (2.23333333333333, 0.09489071203481585),\n",
       " (2.31000000000000, 0.09521511059884537),\n",
       " (2.38666666666667, 0.0954977575311802),\n",
       " (2.46333333333333, 0.09570944480845721),\n",
       " (2.54000000000000, 0.09587345768232286),\n",
       " (2.61666666666667, 0.09593232896613448),\n",
       " (2.69333333333333, 0.09597698382016535),\n",
       " (2.77000000000000, 0.09597386419498914),\n",
       " (2.84666666666667, 0.09593458619772369),\n",
       " (2.92333333333333, 0.09580536948870598),\n",
       " (3.00000000000000, 0.0956747617270982)]"
      ]
     },
     "execution_count": 301,
     "metadata": {},
     "output_type": "execute_result"
    }
   ],
   "source": [
    "zip(rho_c_list, M_list)"
   ]
  },
  {
   "cell_type": "code",
   "execution_count": 302,
   "metadata": {},
   "outputs": [
    {
     "data": {
      "image/png": "[encoded data removed]",
      "text/plain": [
       "Graphics object consisting of 1 graphics primitive"
      ]
     },
     "execution_count": 302,
     "metadata": {},
     "output_type": "execute_result"
    }
   ],
   "source": [
    "graph = line(zip(rho_c_list, M_list), axes_labels=[r'$\\rho_c$', r'$M$'], gridlines=True)\n",
    "graph"
   ]
  },
  {
   "cell_type": "markdown",
   "metadata": {},
   "source": [
    "Similarly, we draw $M$ as a function of $R$:"
   ]
  },
  {
   "cell_type": "code",
   "execution_count": 303,
   "metadata": {},
   "outputs": [
    {
     "data": {
      "image/png": "[encoded data removed]",
      "text/plain": [
       "Graphics object consisting of 1 graphics primitive"
      ]
     },
     "execution_count": 303,
     "metadata": {},
     "output_type": "execute_result"
    }
   ],
   "source": [
    "graph = line(zip(R_list, M_list), axes_labels=[r'$R$', r'$M$'], gridlines=True)\n",
    "graph"
   ]
  },
  {
   "cell_type": "markdown",
   "metadata": {},
   "source": [
    "and we save the plot in a pdf file to use it in our next publication ;-)"
   ]
  },
  {
   "cell_type": "code",
   "execution_count": 125,
   "metadata": {},
   "outputs": [],
   "source": [
    "graph.save('plot_M_R.pdf')"
   ]
  },
  {
   "cell_type": "code",
   "execution_count": null,
   "metadata": {},
   "outputs": [],
   "source": []
  }
 ],
 "metadata": {
  "kernelspec": {
   "display_name": "SageMath 9.0",
   "language": "sage",
   "name": "sagemath"
  },
  "language_info": {
   "codemirror_mode": {
    "name": "ipython",
    "version": 3
   },
   "file_extension": ".py",
   "mimetype": "text/x-python",
   "name": "python",
   "nbconvert_exporter": "python",
   "pygments_lexer": "ipython3",
   "version": "3.8.2"
  }
 },
 "nbformat": 4,
 "nbformat_minor": 1
}
