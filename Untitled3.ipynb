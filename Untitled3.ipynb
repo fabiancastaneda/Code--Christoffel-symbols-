{
 "cells": [
  {
   "cell_type": "code",
   "execution_count": 50,
   "metadata": {},
   "outputs": [],
   "source": [
    "import numpy as np\n",
    "import pytest\n",
    "import math\n",
    "import sympy\n",
    "from sympy import cos, simplify, sin, sinh, tensorcontraction\n",
    "from einsteinpy.symbolic import EinsteinTensor, MetricTensor, RicciScalar, ChristoffelSymbols, RiemannCurvatureTensor\n",
    "\n",
    "sympy.init_printing()"
   ]
  },
  {
   "cell_type": "code",
   "execution_count": 61,
   "metadata": {},
   "outputs": [],
   "source": [
    "#def f():\n",
    " #   f = t ** 2\n",
    "  #  return f\n",
    "syms = sympy.symbols(\"t r theta phi\")\n",
    "t, r, theta, ph = syms\n",
    "m = sympy.diag((1-2/r)**(-1), 1/(1-2/r), r**2, r**2*sin(theta)**2).tolist()\n",
    "metric = MetricTensor(m, syms)"
   ]
  },
  {
   "cell_type": "code",
   "execution_count": 62,
   "metadata": {},
   "outputs": [
    {
     "data": {
      "text/latex": [
       "$\\displaystyle \\left[\\begin{matrix}\\left[\\begin{matrix}0 & - \\frac{2 \\left(\\frac{1}{2} - \\frac{1}{r}\\right)}{r^{2} \\left(1 - \\frac{2}{r}\\right)^{2}} & 0 & 0\\\\- \\frac{2 \\left(\\frac{1}{2} - \\frac{1}{r}\\right)}{r^{2} \\left(1 - \\frac{2}{r}\\right)^{2}} & 0 & 0 & 0\\\\0 & 0 & 0 & 0\\\\0 & 0 & 0 & 0\\end{matrix}\\right] & \\left[\\begin{matrix}\\frac{2 \\left(\\frac{1}{2} - \\frac{1}{r}\\right)}{r^{2} \\left(1 - \\frac{2}{r}\\right)^{2}} & 0 & 0 & 0\\\\0 & - \\frac{2 \\left(\\frac{1}{2} - \\frac{1}{r}\\right)}{r^{2} \\left(1 - \\frac{2}{r}\\right)^{2}} & 0 & 0\\\\0 & 0 & - 2 r \\left(\\frac{1}{2} - \\frac{1}{r}\\right) & 0\\\\0 & 0 & 0 & - 2 r \\left(\\frac{1}{2} - \\frac{1}{r}\\right) \\sin^{2}{\\left(\\theta \\right)}\\end{matrix}\\right] & \\left[\\begin{matrix}0 & 0 & 0 & 0\\\\0 & 0 & \\frac{1}{r} & 0\\\\0 & \\frac{1}{r} & 0 & 0\\\\0 & 0 & 0 & - \\sin{\\left(\\theta \\right)} \\cos{\\left(\\theta \\right)}\\end{matrix}\\right] & \\left[\\begin{matrix}0 & 0 & 0 & 0\\\\0 & 0 & 0 & \\frac{1}{r}\\\\0 & 0 & 0 & \\frac{\\cos{\\left(\\theta \\right)}}{\\sin{\\left(\\theta \\right)}}\\\\0 & \\frac{1}{r} & \\frac{\\cos{\\left(\\theta \\right)}}{\\sin{\\left(\\theta \\right)}} & 0\\end{matrix}\\right]\\end{matrix}\\right]$"
      ],
      "text/plain": [
       "⎡                                  ⎡   ⎛1   1⎞                                \n",
       "⎢                                  ⎢ 2⋅⎜─ - ─⎟                                \n",
       "⎢⎡                ⎛1   1⎞       ⎤  ⎢   ⎝2   r⎠                                \n",
       "⎢⎢             -2⋅⎜─ - ─⎟       ⎥  ⎢───────────       0            0          \n",
       "⎢⎢                ⎝2   r⎠       ⎥  ⎢          2                               \n",
       "⎢⎢     0       ───────────  0  0⎥  ⎢ 2 ⎛    2⎞                                \n",
       "⎢⎢                       2      ⎥  ⎢r ⋅⎜1 - ─⎟                                \n",
       "⎢⎢              2 ⎛    2⎞       ⎥  ⎢   ⎝    r⎠                                \n",
       "⎢⎢             r ⋅⎜1 - ─⎟       ⎥  ⎢                                          \n",
       "⎢⎢                ⎝    r⎠       ⎥  ⎢                ⎛1   1⎞                   \n",
       "⎢⎢                              ⎥  ⎢             -2⋅⎜─ - ─⎟                   \n",
       "⎢⎢   ⎛1   1⎞                    ⎥  ⎢                ⎝2   r⎠                   \n",
       "⎢⎢-2⋅⎜─ - ─⎟                    ⎥  ⎢     0       ───────────       0          \n",
       "⎢⎢   ⎝2   r⎠                    ⎥  ⎢                       2                  \n",
       "⎢⎢───────────       0       0  0⎥  ⎢              2 ⎛    2⎞                   \n",
       "⎢⎢          2                   ⎥  ⎢             r ⋅⎜1 - ─⎟                   \n",
       "⎢⎢ 2 ⎛    2⎞                    ⎥  ⎢                ⎝    r⎠                   \n",
       "⎢⎢r ⋅⎜1 - ─⎟                    ⎥  ⎢                                          \n",
       "⎢⎢   ⎝    r⎠                    ⎥  ⎢                               ⎛1   1⎞    \n",
       "⎢⎢                              ⎥  ⎢     0            0       -2⋅r⋅⎜─ - ─⎟    \n",
       "⎢⎢     0            0       0  0⎥  ⎢                               ⎝2   r⎠    \n",
       "⎢⎢                              ⎥  ⎢                                          \n",
       "⎢⎣     0            0       0  0⎦  ⎢                                          \n",
       "⎢                                  ⎢     0            0            0        -2\n",
       "⎣                                  ⎣                                          \n",
       "\n",
       "                  ⎤                                                   ⎤\n",
       "                  ⎥                                                   ⎥\n",
       "                  ⎥                                                   ⎥\n",
       "       0          ⎥                                                   ⎥\n",
       "                  ⎥                                                   ⎥\n",
       "                  ⎥                                                   ⎥\n",
       "                  ⎥                             ⎡0  0    0       0   ⎤⎥\n",
       "                  ⎥  ⎡0  0  0        0       ⎤  ⎢                    ⎥⎥\n",
       "                  ⎥  ⎢                       ⎥  ⎢                1   ⎥⎥\n",
       "                  ⎥  ⎢      1                ⎥  ⎢0  0    0       ─   ⎥⎥\n",
       "                  ⎥  ⎢0  0  ─        0       ⎥  ⎢                r   ⎥⎥\n",
       "                  ⎥  ⎢      r                ⎥  ⎢                    ⎥⎥\n",
       "       0          ⎥  ⎢                       ⎥  ⎢              cos(θ)⎥⎥\n",
       "                  ⎥  ⎢   1                   ⎥  ⎢0  0    0     ──────⎥⎥\n",
       "                  ⎥  ⎢0  ─  0        0       ⎥  ⎢              sin(θ)⎥⎥\n",
       "                  ⎥  ⎢   r                   ⎥  ⎢                    ⎥⎥\n",
       "                  ⎥  ⎢                       ⎥  ⎢   1  cos(θ)        ⎥⎥\n",
       "                  ⎥  ⎣0  0  0  -sin(θ)⋅cos(θ)⎦  ⎢0  ─  ──────    0   ⎥⎥\n",
       "                  ⎥                             ⎣   r  sin(θ)        ⎦⎥\n",
       "       0          ⎥                                                   ⎥\n",
       "                  ⎥                                                   ⎥\n",
       "                  ⎥                                                   ⎥\n",
       "   ⎛1   1⎞    2   ⎥                                                   ⎥\n",
       "⋅r⋅⎜─ - ─⎟⋅sin (θ)⎥                                                   ⎥\n",
       "   ⎝2   r⎠        ⎦                                                   ⎦"
      ]
     },
     "execution_count": 62,
     "metadata": {},
     "output_type": "execute_result"
    }
   ],
   "source": [
    "ch = ChristoffelSymbols.from_metric(metric)\n",
    "ch.tensor()"
   ]
  },
  {
   "cell_type": "code",
   "execution_count": null,
   "metadata": {},
   "outputs": [],
   "source": []
  }
 ],
 "metadata": {
  "kernelspec": {
   "display_name": "Python 3",
   "language": "python",
   "name": "python3"
  },
  "language_info": {
   "codemirror_mode": {
    "name": "ipython",
    "version": 3
   },
   "file_extension": ".py",
   "mimetype": "text/x-python",
   "name": "python",
   "nbconvert_exporter": "python",
   "pygments_lexer": "ipython3",
   "version": "3.8.2"
  }
 },
 "nbformat": 4,
 "nbformat_minor": 4
}
